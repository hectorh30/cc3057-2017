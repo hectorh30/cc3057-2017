{
 "cells": [
  {
   "cell_type": "markdown",
   "metadata": {},
   "source": [
    "Clase 1-2 Noción de bases de datos e introducción a SQL\n",
    "------------------------------------------------------------------"
   ]
  },
  {
   "cell_type": "markdown",
   "metadata": {},
   "source": [
    "### Actividad 0\n",
    "\n",
    "Complete la instalación de Jupyter junto con el módulo `ipython-sql` de acuerdo a las indicaciones descritas en la [presentación de la clase1](https://github.com/hectorh30/cc3057-2017/blob/master/clases/clase1-introduccion/clase1.pdf)."
   ]
  },
  {
   "cell_type": "code",
   "execution_count": null,
   "metadata": {},
   "outputs": [],
   "source": [
    "%load_ext sql"
   ]
  },
  {
   "cell_type": "markdown",
   "metadata": {},
   "source": [
    "### Creando tablas en SQL\n",
    "\n",
    "Antes de introducirnos a los queries SQL básicos (es decir, hacer consultas), veremos un poco acerca de cómo **crear** tablas.\n",
    "\n",
    "Before we actually get into basic SQL queries (**asking questions _of_ data in tables**), we'll look at some of the basics about how to **create** tables.\n",
    "\n",
    "**NOTA: Asegúrese de contar con el la base de datos [dataset_1.db](https://github.com/hectorh30/cc3057-2017/blob/master/laboratorios/lab1/dataset_1.db) del laboratorio dentro de la carpeta en donde tiene este notebook.**"
   ]
  },
  {
   "cell_type": "code",
   "execution_count": null,
   "metadata": {},
   "outputs": [],
   "source": [
    "%sql sqlite:///dataset_1.db"
   ]
  },
  {
   "cell_type": "markdown",
   "metadata": {},
   "source": [
    "### Actividad 1\n",
    "\n",
    "Esquemas y creación de tablas"
   ]
  },
  {
   "cell_type": "markdown",
   "metadata": {},
   "source": [
    "Recuerde de la clase anterior que la base de datos cuenta con la tabla `precipitation_full` que tiene el siguiente esquema:\n",
    "\n",
    "> * `state_code`\n",
    "> * `station_id`\n",
    "> * `year`\n",
    "> * `month`\n",
    "> * `day`\n",
    "> * `hour`\n",
    "> * `precipitation`\n",
    "> * `flag_1`\n",
    "> * `flag_2`\n",
    "\n",
    "Cada *tupla* en esta tabla denota una fecha (denotada por `year`, `month` y `day`) y hora (`hour`) durante la cual fue medida la cantidad de lluvia (almacenada en `precipitation`), medida en centésimos de pulgada, en una estación (`station_id`) dentro de un estado (`state_code`).\n",
    "\n",
    "Note que las tuplas con `hour=25` almacenan el total de lluvia para ese día. Los *atributos* `flag_1` y `flag_2` no son relevantes por el momento."
   ]
  },
  {
   "cell_type": "markdown",
   "metadata": {},
   "source": [
    "Veamos ahora cómo consultar el **esquema** (_schema_) de una tabla existente. Existen diversas formas de hacer esto, entre las cuales están:\n",
    "\n",
    "* DESCRIBE tablename\n",
    "* SHOW CREATE TABLE tablename\n",
    "* SHOW COLUMNS tablename\n",
    "\n",
    "Desafortunadamente, el soporte para estas instrucciones varía grandemente entre DBMSs, además de contar con la limitante de IPython actual.\n",
    "\n",
    "Por ejemplo, `SQLite`, que es el DBMS que está usando actualmente, no soporta estas instrucciones, y cuenta con un comando `.schema tablename` que no es compatible con este notebook."
   ]
  },
  {
   "cell_type": "markdown",
   "metadata": {},
   "source": [
    "*Investigue la sintaxis del comando `PRAGMA` de SQLite y ejecute, en combinación con el comando `SELECT`, la instrucción necesaria para visualizar la información del esquema de la tabla `precipitation_full`.*\n",
    "\n",
    "**NOTA: Recuerde iniciar sus comandos de sql con `%sql` para comandos de una línea y `%%sql` para comandos de múltiples líneas**"
   ]
  },
  {
   "cell_type": "code",
   "execution_count": null,
   "metadata": {},
   "outputs": [],
   "source": []
  },
  {
   "cell_type": "markdown",
   "metadata": {},
   "source": [
    "Otra alternativa útil al trabajar con DBMSs SQL es analizar el esquema de una tabla a partir de la información almacenada por el mismo DBMS, tambien en tablas."
   ]
  },
  {
   "cell_type": "markdown",
   "metadata": {},
   "source": [
    "*Investigue el contenido de la tabla interna `sqlite_master` utilizada por SQLite para almacenar la definición de las tablas de usuario. Luego ejecute la instrucción `SELECT` necesaria para la información almacenada en esa tabla*"
   ]
  },
  {
   "cell_type": "code",
   "execution_count": null,
   "metadata": {},
   "outputs": [],
   "source": []
  },
  {
   "cell_type": "markdown",
   "metadata": {},
   "source": [
    "El atributo `sql` del resultado anterior contiene la instrucción necesaria para *crear* la tabla `precipitation_full`.\n",
    "\n",
    "Suponga que los miembros de la sección 10 del curso `CC3057 BASES DE DATOS` fueron asignados para apoyar al departamento de investigación con la recolección esta información.\n",
    "\n",
    "_Basado en los pasos anteriores, investigue y ejecute la instrucción necesaria para crear una tabla en dónde registrar los turnos en los que cada miembro de la sección trabajará una medición._\n",
    "\n",
    "Estos son los requerimientos:\n",
    "* Cada miembro de la clase realizará una medición diaria manteniendo una probeta bajo la lluvia, por un turno que puede abarcar múltiples horas, en una estación específica.\n",
    "* Cada miembro de la clase contará con un día libre a la semana\n",
    "* La probeta de cada persona puede ser de diferente tamaño, medida como la cantidad máxima de agua que puede almacenar (medida en litros)\n",
    "* Dado que los servidores del departamento de investigación no pueden almacenar toda la información que se generará, será necesario elegir aleatoriamente e identificar a algunos estudiantes que cumplirán con su turno pero que no contarán con probeta\n",
    "* Algunos estudiantes en clase tienen [nombres peculiares](https://www.youtube.com/watch?v=fHxO0UdpoxM)\n"
   ]
  },
  {
   "cell_type": "markdown",
   "metadata": {},
   "source": [
    "### Actividad 2\n",
    "\n",
    "_Ejecute el siguientes comando para crear y conectarse a una una base de datos en blanco_"
   ]
  },
  {
   "cell_type": "code",
   "execution_count": null,
   "metadata": {},
   "outputs": [],
   "source": [
    "%sql sqlite://"
   ]
  },
  {
   "cell_type": "markdown",
   "metadata": {},
   "source": [
    "*Ejecute el siguiente comando para crear la tabla `producto` e ingresar cuatro tuplas*"
   ]
  },
  {
   "cell_type": "code",
   "execution_count": null,
   "metadata": {},
   "outputs": [],
   "source": [
    "%%sql drop table if exists producto;\n",
    "create table producto(\n",
    "       nombre varchar primary key,\n",
    "       precio money,               \n",
    "       categoria varchar,             \n",
    "       proveedor varchar NOT NULL     \n",
    ");\n",
    "insert into producto values('Gizmo', 19.99, 'Gadgets', 'GizmoWorks');\n",
    "insert into producto values('PowerGizmo', 29.99, 'Gadgets', 'GizmoWorks');\n",
    "insert into producto values('MultiTouch', 203.99, 'Household', 'Hitachi');\n",
    "insert into producto values('SingleTouch', 149.99, 'Photography', 'Canon');"
   ]
  },
  {
   "cell_type": "markdown",
   "metadata": {},
   "source": [
    "*Escriba un query para obtener una tabla de todos los productos que contengan 'Touch' dentro del nombre, mostrando únicamente su nombre y precio, ordenados alfabeticamente por proveedor*"
   ]
  },
  {
   "cell_type": "code",
   "execution_count": null,
   "metadata": {},
   "outputs": [],
   "source": []
  },
  {
   "cell_type": "markdown",
   "metadata": {},
   "source": [
    "_Escriba un query que retorne los proveedores de productos que contengan 'Gizmo' en su nombre, sin duplicados_"
   ]
  },
  {
   "cell_type": "code",
   "execution_count": null,
   "metadata": {},
   "outputs": [],
   "source": []
  },
  {
   "cell_type": "markdown",
   "metadata": {},
   "source": [
    "_**Prediga** el resultado de los siguientes queries y escribalos en celdas de tipo `Markdown` como un listado de tuplas_"
   ]
  },
  {
   "cell_type": "markdown",
   "metadata": {},
   "source": [
    "`SELECT DISTINCT category FROM product ORDER BY category;`"
   ]
  },
  {
   "cell_type": "markdown",
   "metadata": {},
   "source": [
    "*Resultado:*\n",
    "\n"
   ]
  },
  {
   "cell_type": "markdown",
   "metadata": {},
   "source": [
    "`SELECT category FROM product ORDER BY pname;`"
   ]
  },
  {
   "cell_type": "markdown",
   "metadata": {},
   "source": [
    "*Resultado:*\n",
    "\n"
   ]
  },
  {
   "cell_type": "markdown",
   "metadata": {},
   "source": [
    "`SELECT DISTINCT category FROM product ORDER BY pname;`"
   ]
  },
  {
   "cell_type": "markdown",
   "metadata": {},
   "source": [
    "*Resultado:*\n",
    "\n"
   ]
  }
 ],
 "metadata": {
  "kernelspec": {
   "display_name": "Python 3",
   "language": "python",
   "name": "python3"
  },
  "language_info": {
   "codemirror_mode": {
    "name": "ipython",
    "version": 3
   },
   "file_extension": ".py",
   "mimetype": "text/x-python",
   "name": "python",
   "nbconvert_exporter": "python",
   "pygments_lexer": "ipython3",
   "version": "3.6.4"
  }
 },
 "nbformat": 4,
 "nbformat_minor": 2
}
