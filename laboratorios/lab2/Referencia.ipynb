{
 "cells": [
  {
   "cell_type": "code",
   "execution_count": 1,
   "metadata": {},
   "outputs": [
    {
     "data": {
      "text/plain": [
       "'Connected: None@flights.db'"
      ]
     },
     "execution_count": 1,
     "metadata": {},
     "output_type": "execute_result"
    }
   ],
   "source": [
    "%load_ext sql\n",
    "%sql sqlite:///flights.db"
   ]
  },
  {
   "cell_type": "markdown",
   "metadata": {},
   "source": [
    "### Q1"
   ]
  },
  {
   "cell_type": "code",
   "execution_count": 2,
   "metadata": {},
   "outputs": [
    {
     "name": "stdout",
     "output_type": "stream",
     "text": [
      "Done.\n"
     ]
    },
    {
     "data": {
      "text/html": [
       "<table>\n",
       "    <tr>\n",
       "        <th>weekday_name</th>\n",
       "        <th>promedio</th>\n",
       "    </tr>\n",
       "    <tr>\n",
       "        <td>Friday</td>\n",
       "        <td>14.452012705575017</td>\n",
       "    </tr>\n",
       "    <tr>\n",
       "        <td>Monday</td>\n",
       "        <td>10.537501524948151</td>\n",
       "    </tr>\n",
       "    <tr>\n",
       "        <td>Saturday</td>\n",
       "        <td>7.544554592337578</td>\n",
       "    </tr>\n",
       "    <tr>\n",
       "        <td>Sunday</td>\n",
       "        <td>4.211659780807007</td>\n",
       "    </tr>\n",
       "    <tr>\n",
       "        <td>Thursday</td>\n",
       "        <td>8.47985564692658</td>\n",
       "    </tr>\n",
       "    <tr>\n",
       "        <td>Tuesday</td>\n",
       "        <td>4.6315245398299725</td>\n",
       "    </tr>\n",
       "    <tr>\n",
       "        <td>Wednesday</td>\n",
       "        <td>8.4561902339015</td>\n",
       "    </tr>\n",
       "</table>"
      ],
      "text/plain": [
       "[('Friday', 14.452012705575017),\n",
       " ('Monday', 10.537501524948151),\n",
       " ('Saturday', 7.544554592337578),\n",
       " ('Sunday', 4.211659780807007),\n",
       " ('Thursday', 8.47985564692658),\n",
       " ('Tuesday', 4.6315245398299725),\n",
       " ('Wednesday', 8.4561902339015)]"
      ]
     },
     "execution_count": 2,
     "metadata": {},
     "output_type": "execute_result"
    }
   ],
   "source": []
  },
  {
   "cell_type": "markdown",
   "metadata": {},
   "source": [
    "### Q2"
   ]
  },
  {
   "cell_type": "code",
   "execution_count": 5,
   "metadata": {},
   "outputs": [
    {
     "name": "stdout",
     "output_type": "stream",
     "text": [
      "Done.\n"
     ]
    },
    {
     "data": {
      "text/html": [
       "<table>\n",
       "    <tr>\n",
       "        <th>airline_name</th>\n",
       "        <th>promedio</th>\n",
       "    </tr>\n",
       "    <tr>\n",
       "        <td>JetBlue Airways: B6</td>\n",
       "        <td>21.459498403302437</td>\n",
       "    </tr>\n",
       "    <tr>\n",
       "        <td>American Airlines Inc.: AA</td>\n",
       "        <td>11.186316345868732</td>\n",
       "    </tr>\n",
       "    <tr>\n",
       "        <td>Frontier Airlines Inc.: F9</td>\n",
       "        <td>10.106046316671906</td>\n",
       "    </tr>\n",
       "    <tr>\n",
       "        <td>SkyWest Airlines Inc.: OO</td>\n",
       "        <td>9.099801905480614</td>\n",
       "    </tr>\n",
       "    <tr>\n",
       "        <td>Southwest Airlines Co.: WN</td>\n",
       "        <td>8.777705490592203</td>\n",
       "    </tr>\n",
       "    <tr>\n",
       "        <td>United Air Lines Inc.: UA</td>\n",
       "        <td>6.730333043511133</td>\n",
       "    </tr>\n",
       "    <tr>\n",
       "        <td>Virgin America: VX</td>\n",
       "        <td>6.066317340756509</td>\n",
       "    </tr>\n",
       "    <tr>\n",
       "        <td>Delta Air Lines Inc.: DL</td>\n",
       "        <td>2.783035510698813</td>\n",
       "    </tr>\n",
       "    <tr>\n",
       "        <td>Hawaiian Airlines Inc.: HA</td>\n",
       "        <td>-0.2698805109188298</td>\n",
       "    </tr>\n",
       "    <tr>\n",
       "        <td>Alaska Airlines Inc.: AS</td>\n",
       "        <td>-1.1098173650924996</td>\n",
       "    </tr>\n",
       "</table>"
      ],
      "text/plain": [
       "[('JetBlue Airways: B6', 21.459498403302437),\n",
       " ('American Airlines Inc.: AA', 11.186316345868732),\n",
       " ('Frontier Airlines Inc.: F9', 10.106046316671906),\n",
       " ('SkyWest Airlines Inc.: OO', 9.099801905480614),\n",
       " ('Southwest Airlines Co.: WN', 8.777705490592203),\n",
       " ('United Air Lines Inc.: UA', 6.730333043511133),\n",
       " ('Virgin America: VX', 6.066317340756509),\n",
       " ('Delta Air Lines Inc.: DL', 2.783035510698813),\n",
       " ('Hawaiian Airlines Inc.: HA', -0.2698805109188298),\n",
       " ('Alaska Airlines Inc.: AS', -1.1098173650924996)]"
      ]
     },
     "execution_count": 5,
     "metadata": {},
     "output_type": "execute_result"
    }
   ],
   "source": []
  },
  {
   "cell_type": "markdown",
   "metadata": {},
   "source": [
    "### Q3"
   ]
  },
  {
   "cell_type": "code",
   "execution_count": 6,
   "metadata": {},
   "outputs": [
    {
     "name": "stdout",
     "output_type": "stream",
     "text": [
      "Done.\n"
     ]
    },
    {
     "data": {
      "text/html": [
       "<table>\n",
       "    <tr>\n",
       "        <th>airline_name</th>\n",
       "        <th>promedio</th>\n",
       "    </tr>\n",
       "    <tr>\n",
       "        <td>American Airlines Inc.: AA</td>\n",
       "        <td>11.186316345868732</td>\n",
       "    </tr>\n",
       "    <tr>\n",
       "        <td>ExpressJet Airlines Inc.: EV</td>\n",
       "        <td>10.766844881917644</td>\n",
       "    </tr>\n",
       "    <tr>\n",
       "        <td>Frontier Airlines Inc.: F9</td>\n",
       "        <td>10.106046316671906</td>\n",
       "    </tr>\n",
       "    <tr>\n",
       "        <td>JetBlue Airways: B6</td>\n",
       "        <td>21.459498403302437</td>\n",
       "    </tr>\n",
       "</table>"
      ],
      "text/plain": [
       "[('American Airlines Inc.: AA', 11.186316345868732),\n",
       " ('ExpressJet Airlines Inc.: EV', 10.766844881917644),\n",
       " ('Frontier Airlines Inc.: F9', 10.106046316671906),\n",
       " ('JetBlue Airways: B6', 21.459498403302437)]"
      ]
     },
     "execution_count": 6,
     "metadata": {},
     "output_type": "execute_result"
    }
   ],
   "source": []
  },
  {
   "cell_type": "markdown",
   "metadata": {},
   "source": [
    "### Q4"
   ]
  },
  {
   "cell_type": "code",
   "execution_count": 7,
   "metadata": {},
   "outputs": [
    {
     "name": "stdout",
     "output_type": "stream",
     "text": [
      "Done.\n"
     ]
    },
    {
     "data": {
      "text/html": [
       "<table>\n",
       "    <tr>\n",
       "        <th>proporcion</th>\n",
       "    </tr>\n",
       "    <tr>\n",
       "        <td>0.3333333333333333</td>\n",
       "    </tr>\n",
       "</table>"
      ],
      "text/plain": [
       "[(0.3333333333333333,)]"
      ]
     },
     "execution_count": 7,
     "metadata": {},
     "output_type": "execute_result"
    }
   ],
   "source": []
  },
  {
   "cell_type": "markdown",
   "metadata": {},
   "source": [
    "### Q5a"
   ]
  },
  {
   "cell_type": "code",
   "execution_count": 8,
   "metadata": {},
   "outputs": [
    {
     "name": "stdout",
     "output_type": "stream",
     "text": [
      "Done.\n"
     ]
    },
    {
     "data": {
      "text/html": [
       "<table>\n",
       "    <tr>\n",
       "        <th>termino</th>\n",
       "    </tr>\n",
       "    <tr>\n",
       "        <td>1.9643702523626464e-06</td>\n",
       "    </tr>\n",
       "</table>"
      ],
      "text/plain": [
       "[(1.9643702523626464e-06,)]"
      ]
     },
     "execution_count": 8,
     "metadata": {},
     "output_type": "execute_result"
    }
   ],
   "source": []
  },
  {
   "cell_type": "markdown",
   "metadata": {},
   "source": [
    "### Q5b"
   ]
  },
  {
   "cell_type": "code",
   "execution_count": 9,
   "metadata": {},
   "outputs": [
    {
     "name": "stdout",
     "output_type": "stream",
     "text": [
      "Done.\n"
     ]
    },
    {
     "data": {
      "text/html": [
       "<table>\n",
       "    <tr>\n",
       "        <th>terminos</th>\n",
       "    </tr>\n",
       "    <tr>\n",
       "        <td>934.4839764507938</td>\n",
       "    </tr>\n",
       "    <tr>\n",
       "        <td>587.4803955715038</td>\n",
       "    </tr>\n",
       "    <tr>\n",
       "        <td>535.7895547491927</td>\n",
       "    </tr>\n",
       "    <tr>\n",
       "        <td>742.7399314481147</td>\n",
       "    </tr>\n",
       "    <tr>\n",
       "        <td>600.5845629261472</td>\n",
       "    </tr>\n",
       "    <tr>\n",
       "        <td>1151.400785362908</td>\n",
       "    </tr>\n",
       "    <tr>\n",
       "        <td>417.6574053741945</td>\n",
       "    </tr>\n",
       "    <tr>\n",
       "        <td>5.664173134742828</td>\n",
       "    </tr>\n",
       "    <tr>\n",
       "        <td>122.61210995443744</td>\n",
       "    </tr>\n",
       "    <tr>\n",
       "        <td>202.8621592041914</td>\n",
       "    </tr>\n",
       "</table>"
      ],
      "text/plain": [
       "[(934.4839764507938,),\n",
       " (587.4803955715038,),\n",
       " (535.7895547491927,),\n",
       " (742.7399314481147,),\n",
       " (600.5845629261472,),\n",
       " (1151.400785362908,),\n",
       " (417.6574053741945,),\n",
       " (5.664173134742828,),\n",
       " (122.61210995443744,),\n",
       " (202.8621592041914,)]"
      ]
     },
     "execution_count": 9,
     "metadata": {},
     "output_type": "execute_result"
    }
   ],
   "source": []
  },
  {
   "cell_type": "markdown",
   "metadata": {},
   "source": [
    "### Q5c"
   ]
  },
  {
   "cell_type": "code",
   "execution_count": 10,
   "metadata": {},
   "outputs": [
    {
     "name": "stdout",
     "output_type": "stream",
     "text": [
      "Done.\n"
     ]
    },
    {
     "data": {
      "text/html": [
       "<table>\n",
       "    <tr>\n",
       "        <th>termino</th>\n",
       "    </tr>\n",
       "    <tr>\n",
       "        <td>1205104163.0847344</td>\n",
       "    </tr>\n",
       "</table>"
      ],
      "text/plain": [
       "[(1205104163.0847344,)]"
      ]
     },
     "execution_count": 10,
     "metadata": {},
     "output_type": "execute_result"
    }
   ],
   "source": []
  },
  {
   "cell_type": "markdown",
   "metadata": {},
   "source": [
    "### Q5d"
   ]
  },
  {
   "cell_type": "code",
   "execution_count": 11,
   "metadata": {},
   "outputs": [
    {
     "name": "stdout",
     "output_type": "stream",
     "text": [
      "Done.\n"
     ]
    },
    {
     "data": {
      "text/html": [
       "<table>\n",
       "    <tr>\n",
       "        <th>covarianza</th>\n",
       "    </tr>\n",
       "    <tr>\n",
       "        <td>2367.2707689620356</td>\n",
       "    </tr>\n",
       "</table>"
      ],
      "text/plain": [
       "[(2367.2707689620356,)]"
      ]
     },
     "execution_count": 11,
     "metadata": {},
     "output_type": "execute_result"
    }
   ],
   "source": []
  },
  {
   "cell_type": "markdown",
   "metadata": {},
   "source": [
    "### Q6"
   ]
  },
  {
   "cell_type": "code",
   "execution_count": 93,
   "metadata": {},
   "outputs": [
    {
     "name": "stdout",
     "output_type": "stream",
     "text": [
      "Done.\n"
     ]
    },
    {
     "data": {
      "text/html": [
       "<table>\n",
       "    <tr>\n",
       "        <th>airline_name</th>\n",
       "    </tr>\n",
       "    <tr>\n",
       "        <td>SkyWest Airlines Inc.: OO</td>\n",
       "    </tr>\n",
       "    <tr>\n",
       "        <td>United Air Lines Inc.: UA</td>\n",
       "    </tr>\n",
       "</table>"
      ],
      "text/plain": [
       "[('SkyWest Airlines Inc.: OO',), ('United Air Lines Inc.: UA',)]"
      ]
     },
     "execution_count": 93,
     "metadata": {},
     "output_type": "execute_result"
    }
   ],
   "source": []
  },
  {
   "cell_type": "code",
   "execution_count": null,
   "metadata": {},
   "outputs": [],
   "source": []
  }
 ],
 "metadata": {
  "kernelspec": {
   "display_name": "Python 3",
   "language": "python",
   "name": "python3"
  },
  "language_info": {
   "codemirror_mode": {
    "name": "ipython",
    "version": 3
   },
   "file_extension": ".py",
   "mimetype": "text/x-python",
   "name": "python",
   "nbconvert_exporter": "python",
   "pygments_lexer": "ipython3",
   "version": "3.6.4"
  }
 },
 "nbformat": 4,
 "nbformat_minor": 2
}
