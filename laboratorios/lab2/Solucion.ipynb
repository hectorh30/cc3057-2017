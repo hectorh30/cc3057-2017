{
 "cells": [
  {
   "cell_type": "code",
   "execution_count": 1,
   "metadata": {},
   "outputs": [
    {
     "data": {
      "text/plain": [
       "'Connected: None@flights.db'"
      ]
     },
     "execution_count": 1,
     "metadata": {},
     "output_type": "execute_result"
    }
   ],
   "source": [
    "%load_ext sql\n",
    "%sql sqlite:///flights.db"
   ]
  },
  {
   "cell_type": "code",
   "execution_count": 8,
   "metadata": {},
   "outputs": [
    {
     "name": "stdout",
     "output_type": "stream",
     "text": [
      "Done.\n"
     ]
    },
    {
     "data": {
      "text/html": [
       "<table>\n",
       "    <tr>\n",
       "        <th>type</th>\n",
       "        <th>name</th>\n",
       "        <th>tbl_name</th>\n",
       "    </tr>\n",
       "    <tr>\n",
       "        <td>table</td>\n",
       "        <td>flight_delays</td>\n",
       "        <td>flight_delays</td>\n",
       "    </tr>\n",
       "    <tr>\n",
       "        <td>table</td>\n",
       "        <td>airports</td>\n",
       "        <td>airports</td>\n",
       "    </tr>\n",
       "    <tr>\n",
       "        <td>table</td>\n",
       "        <td>airlines</td>\n",
       "        <td>airlines</td>\n",
       "    </tr>\n",
       "    <tr>\n",
       "        <td>table</td>\n",
       "        <td>weekdays</td>\n",
       "        <td>weekdays</td>\n",
       "    </tr>\n",
       "    <tr>\n",
       "        <td>table</td>\n",
       "        <td>weather</td>\n",
       "        <td>weather</td>\n",
       "    </tr>\n",
       "</table>"
      ],
      "text/plain": [
       "[('table', 'flight_delays', 'flight_delays'),\n",
       " ('table', 'airports', 'airports'),\n",
       " ('table', 'airlines', 'airlines'),\n",
       " ('table', 'weekdays', 'weekdays'),\n",
       " ('table', 'weather', 'weather')]"
      ]
     },
     "execution_count": 8,
     "metadata": {},
     "output_type": "execute_result"
    }
   ],
   "source": [
    "%sql SELECT type, name, tbl_name FROM sqlite_master;"
   ]
  },
  {
   "cell_type": "code",
   "execution_count": 9,
   "metadata": {},
   "outputs": [
    {
     "name": "stdout",
     "output_type": "stream",
     "text": [
      "Done.\n"
     ]
    },
    {
     "data": {
      "text/html": [
       "<table>\n",
       "    <tr>\n",
       "        <th>cid</th>\n",
       "        <th>name</th>\n",
       "        <th>type</th>\n",
       "        <th>notnull</th>\n",
       "        <th>dflt_value</th>\n",
       "        <th>pk</th>\n",
       "    </tr>\n",
       "    <tr>\n",
       "        <td>0</td>\n",
       "        <td>year</td>\n",
       "        <td>INTEGER</td>\n",
       "        <td>0</td>\n",
       "        <td>None</td>\n",
       "        <td>0</td>\n",
       "    </tr>\n",
       "    <tr>\n",
       "        <td>1</td>\n",
       "        <td>quarter</td>\n",
       "        <td>INTEGER</td>\n",
       "        <td>0</td>\n",
       "        <td>None</td>\n",
       "        <td>0</td>\n",
       "    </tr>\n",
       "    <tr>\n",
       "        <td>2</td>\n",
       "        <td>month</td>\n",
       "        <td>INTEGER</td>\n",
       "        <td>0</td>\n",
       "        <td>None</td>\n",
       "        <td>0</td>\n",
       "    </tr>\n",
       "    <tr>\n",
       "        <td>3</td>\n",
       "        <td>day_of_month</td>\n",
       "        <td>INTEGER</td>\n",
       "        <td>0</td>\n",
       "        <td>None</td>\n",
       "        <td>0</td>\n",
       "    </tr>\n",
       "    <tr>\n",
       "        <td>4</td>\n",
       "        <td>day_of_week</td>\n",
       "        <td>INTEGER</td>\n",
       "        <td>0</td>\n",
       "        <td>None</td>\n",
       "        <td>0</td>\n",
       "    </tr>\n",
       "    <tr>\n",
       "        <td>5</td>\n",
       "        <td>fl_date</td>\n",
       "        <td>TEXT</td>\n",
       "        <td>0</td>\n",
       "        <td>None</td>\n",
       "        <td>0</td>\n",
       "    </tr>\n",
       "    <tr>\n",
       "        <td>6</td>\n",
       "        <td>unique_carrier</td>\n",
       "        <td>TEXT</td>\n",
       "        <td>0</td>\n",
       "        <td>None</td>\n",
       "        <td>0</td>\n",
       "    </tr>\n",
       "    <tr>\n",
       "        <td>7</td>\n",
       "        <td>airline_id</td>\n",
       "        <td>INTEGER</td>\n",
       "        <td>0</td>\n",
       "        <td>None</td>\n",
       "        <td>0</td>\n",
       "    </tr>\n",
       "    <tr>\n",
       "        <td>8</td>\n",
       "        <td>carrier</td>\n",
       "        <td>TEXT</td>\n",
       "        <td>0</td>\n",
       "        <td>None</td>\n",
       "        <td>0</td>\n",
       "    </tr>\n",
       "    <tr>\n",
       "        <td>9</td>\n",
       "        <td>tail_num</td>\n",
       "        <td>TEXT</td>\n",
       "        <td>0</td>\n",
       "        <td>None</td>\n",
       "        <td>0</td>\n",
       "    </tr>\n",
       "    <tr>\n",
       "        <td>10</td>\n",
       "        <td>fl_num</td>\n",
       "        <td>INTEGER</td>\n",
       "        <td>0</td>\n",
       "        <td>None</td>\n",
       "        <td>0</td>\n",
       "    </tr>\n",
       "    <tr>\n",
       "        <td>11</td>\n",
       "        <td>origin_airport_id</td>\n",
       "        <td>INTEGER</td>\n",
       "        <td>0</td>\n",
       "        <td>None</td>\n",
       "        <td>0</td>\n",
       "    </tr>\n",
       "    <tr>\n",
       "        <td>12</td>\n",
       "        <td>origin_airport_seq_id</td>\n",
       "        <td>INTEGER</td>\n",
       "        <td>0</td>\n",
       "        <td>None</td>\n",
       "        <td>0</td>\n",
       "    </tr>\n",
       "    <tr>\n",
       "        <td>13</td>\n",
       "        <td>origin_city_market_id</td>\n",
       "        <td>INTEGER</td>\n",
       "        <td>0</td>\n",
       "        <td>None</td>\n",
       "        <td>0</td>\n",
       "    </tr>\n",
       "    <tr>\n",
       "        <td>14</td>\n",
       "        <td>origin</td>\n",
       "        <td>TEXT</td>\n",
       "        <td>0</td>\n",
       "        <td>None</td>\n",
       "        <td>0</td>\n",
       "    </tr>\n",
       "    <tr>\n",
       "        <td>15</td>\n",
       "        <td>origin_city_name</td>\n",
       "        <td>TEXT</td>\n",
       "        <td>0</td>\n",
       "        <td>None</td>\n",
       "        <td>0</td>\n",
       "    </tr>\n",
       "    <tr>\n",
       "        <td>16</td>\n",
       "        <td>origin_state_abr</td>\n",
       "        <td>TEXT</td>\n",
       "        <td>0</td>\n",
       "        <td>None</td>\n",
       "        <td>0</td>\n",
       "    </tr>\n",
       "    <tr>\n",
       "        <td>17</td>\n",
       "        <td>origin_state_fips</td>\n",
       "        <td>INTEGER</td>\n",
       "        <td>0</td>\n",
       "        <td>None</td>\n",
       "        <td>0</td>\n",
       "    </tr>\n",
       "    <tr>\n",
       "        <td>18</td>\n",
       "        <td>origin_state_nm</td>\n",
       "        <td>TEXT</td>\n",
       "        <td>0</td>\n",
       "        <td>None</td>\n",
       "        <td>0</td>\n",
       "    </tr>\n",
       "    <tr>\n",
       "        <td>19</td>\n",
       "        <td>origin_wac</td>\n",
       "        <td>INTEGER</td>\n",
       "        <td>0</td>\n",
       "        <td>None</td>\n",
       "        <td>0</td>\n",
       "    </tr>\n",
       "    <tr>\n",
       "        <td>20</td>\n",
       "        <td>dest_airport_id</td>\n",
       "        <td>INTEGER</td>\n",
       "        <td>0</td>\n",
       "        <td>None</td>\n",
       "        <td>0</td>\n",
       "    </tr>\n",
       "    <tr>\n",
       "        <td>21</td>\n",
       "        <td>dest_airport_seq_id</td>\n",
       "        <td>INTEGER</td>\n",
       "        <td>0</td>\n",
       "        <td>None</td>\n",
       "        <td>0</td>\n",
       "    </tr>\n",
       "    <tr>\n",
       "        <td>22</td>\n",
       "        <td>dest_city_market_id</td>\n",
       "        <td>INTEGER</td>\n",
       "        <td>0</td>\n",
       "        <td>None</td>\n",
       "        <td>0</td>\n",
       "    </tr>\n",
       "    <tr>\n",
       "        <td>23</td>\n",
       "        <td>dest</td>\n",
       "        <td>TEXT</td>\n",
       "        <td>0</td>\n",
       "        <td>None</td>\n",
       "        <td>0</td>\n",
       "    </tr>\n",
       "    <tr>\n",
       "        <td>24</td>\n",
       "        <td>dest_city_name</td>\n",
       "        <td>TEXT</td>\n",
       "        <td>0</td>\n",
       "        <td>None</td>\n",
       "        <td>0</td>\n",
       "    </tr>\n",
       "    <tr>\n",
       "        <td>25</td>\n",
       "        <td>dest_state_abr</td>\n",
       "        <td>TEXT</td>\n",
       "        <td>0</td>\n",
       "        <td>None</td>\n",
       "        <td>0</td>\n",
       "    </tr>\n",
       "    <tr>\n",
       "        <td>26</td>\n",
       "        <td>dest_state_fips</td>\n",
       "        <td>INTEGER</td>\n",
       "        <td>0</td>\n",
       "        <td>None</td>\n",
       "        <td>0</td>\n",
       "    </tr>\n",
       "    <tr>\n",
       "        <td>27</td>\n",
       "        <td>dest_state_nm</td>\n",
       "        <td>TEXT</td>\n",
       "        <td>0</td>\n",
       "        <td>None</td>\n",
       "        <td>0</td>\n",
       "    </tr>\n",
       "    <tr>\n",
       "        <td>28</td>\n",
       "        <td>dest_wac</td>\n",
       "        <td>INTEGER</td>\n",
       "        <td>0</td>\n",
       "        <td>None</td>\n",
       "        <td>0</td>\n",
       "    </tr>\n",
       "    <tr>\n",
       "        <td>29</td>\n",
       "        <td>crs_dep_time</td>\n",
       "        <td>INTEGER</td>\n",
       "        <td>0</td>\n",
       "        <td>None</td>\n",
       "        <td>0</td>\n",
       "    </tr>\n",
       "    <tr>\n",
       "        <td>30</td>\n",
       "        <td>dep_time</td>\n",
       "        <td>REAL</td>\n",
       "        <td>0</td>\n",
       "        <td>None</td>\n",
       "        <td>0</td>\n",
       "    </tr>\n",
       "    <tr>\n",
       "        <td>31</td>\n",
       "        <td>dep_delay</td>\n",
       "        <td>REAL</td>\n",
       "        <td>0</td>\n",
       "        <td>None</td>\n",
       "        <td>0</td>\n",
       "    </tr>\n",
       "    <tr>\n",
       "        <td>32</td>\n",
       "        <td>dep_delay_new</td>\n",
       "        <td>REAL</td>\n",
       "        <td>0</td>\n",
       "        <td>None</td>\n",
       "        <td>0</td>\n",
       "    </tr>\n",
       "    <tr>\n",
       "        <td>33</td>\n",
       "        <td>dep_del15</td>\n",
       "        <td>REAL</td>\n",
       "        <td>0</td>\n",
       "        <td>None</td>\n",
       "        <td>0</td>\n",
       "    </tr>\n",
       "    <tr>\n",
       "        <td>34</td>\n",
       "        <td>dep_delay_group</td>\n",
       "        <td>REAL</td>\n",
       "        <td>0</td>\n",
       "        <td>None</td>\n",
       "        <td>0</td>\n",
       "    </tr>\n",
       "    <tr>\n",
       "        <td>35</td>\n",
       "        <td>dep_time_blk</td>\n",
       "        <td>TEXT</td>\n",
       "        <td>0</td>\n",
       "        <td>None</td>\n",
       "        <td>0</td>\n",
       "    </tr>\n",
       "    <tr>\n",
       "        <td>36</td>\n",
       "        <td>taxi_out</td>\n",
       "        <td>REAL</td>\n",
       "        <td>0</td>\n",
       "        <td>None</td>\n",
       "        <td>0</td>\n",
       "    </tr>\n",
       "    <tr>\n",
       "        <td>37</td>\n",
       "        <td>wheels_off</td>\n",
       "        <td>REAL</td>\n",
       "        <td>0</td>\n",
       "        <td>None</td>\n",
       "        <td>0</td>\n",
       "    </tr>\n",
       "    <tr>\n",
       "        <td>38</td>\n",
       "        <td>wheels_on</td>\n",
       "        <td>REAL</td>\n",
       "        <td>0</td>\n",
       "        <td>None</td>\n",
       "        <td>0</td>\n",
       "    </tr>\n",
       "    <tr>\n",
       "        <td>39</td>\n",
       "        <td>taxi_in</td>\n",
       "        <td>REAL</td>\n",
       "        <td>0</td>\n",
       "        <td>None</td>\n",
       "        <td>0</td>\n",
       "    </tr>\n",
       "    <tr>\n",
       "        <td>40</td>\n",
       "        <td>crs_arr_time</td>\n",
       "        <td>INTEGER</td>\n",
       "        <td>0</td>\n",
       "        <td>None</td>\n",
       "        <td>0</td>\n",
       "    </tr>\n",
       "    <tr>\n",
       "        <td>41</td>\n",
       "        <td>arr_time</td>\n",
       "        <td>REAL</td>\n",
       "        <td>0</td>\n",
       "        <td>None</td>\n",
       "        <td>0</td>\n",
       "    </tr>\n",
       "    <tr>\n",
       "        <td>42</td>\n",
       "        <td>arr_delay</td>\n",
       "        <td>REAL</td>\n",
       "        <td>0</td>\n",
       "        <td>None</td>\n",
       "        <td>0</td>\n",
       "    </tr>\n",
       "    <tr>\n",
       "        <td>43</td>\n",
       "        <td>arr_delay_new</td>\n",
       "        <td>REAL</td>\n",
       "        <td>0</td>\n",
       "        <td>None</td>\n",
       "        <td>0</td>\n",
       "    </tr>\n",
       "    <tr>\n",
       "        <td>44</td>\n",
       "        <td>arr_del15</td>\n",
       "        <td>REAL</td>\n",
       "        <td>0</td>\n",
       "        <td>None</td>\n",
       "        <td>0</td>\n",
       "    </tr>\n",
       "    <tr>\n",
       "        <td>45</td>\n",
       "        <td>arr_delay_group</td>\n",
       "        <td>REAL</td>\n",
       "        <td>0</td>\n",
       "        <td>None</td>\n",
       "        <td>0</td>\n",
       "    </tr>\n",
       "    <tr>\n",
       "        <td>46</td>\n",
       "        <td>arr_time_blk</td>\n",
       "        <td>TEXT</td>\n",
       "        <td>0</td>\n",
       "        <td>None</td>\n",
       "        <td>0</td>\n",
       "    </tr>\n",
       "    <tr>\n",
       "        <td>47</td>\n",
       "        <td>cancelled</td>\n",
       "        <td>REAL</td>\n",
       "        <td>0</td>\n",
       "        <td>None</td>\n",
       "        <td>0</td>\n",
       "    </tr>\n",
       "    <tr>\n",
       "        <td>48</td>\n",
       "        <td>cancellation_code</td>\n",
       "        <td>TEXT</td>\n",
       "        <td>0</td>\n",
       "        <td>None</td>\n",
       "        <td>0</td>\n",
       "    </tr>\n",
       "    <tr>\n",
       "        <td>49</td>\n",
       "        <td>diverted</td>\n",
       "        <td>REAL</td>\n",
       "        <td>0</td>\n",
       "        <td>None</td>\n",
       "        <td>0</td>\n",
       "    </tr>\n",
       "    <tr>\n",
       "        <td>50</td>\n",
       "        <td>carrier_delay</td>\n",
       "        <td>REAL</td>\n",
       "        <td>0</td>\n",
       "        <td>None</td>\n",
       "        <td>0</td>\n",
       "    </tr>\n",
       "    <tr>\n",
       "        <td>51</td>\n",
       "        <td>weather_delay</td>\n",
       "        <td>REAL</td>\n",
       "        <td>0</td>\n",
       "        <td>None</td>\n",
       "        <td>0</td>\n",
       "    </tr>\n",
       "    <tr>\n",
       "        <td>52</td>\n",
       "        <td>nas_delay</td>\n",
       "        <td>REAL</td>\n",
       "        <td>0</td>\n",
       "        <td>None</td>\n",
       "        <td>0</td>\n",
       "    </tr>\n",
       "    <tr>\n",
       "        <td>53</td>\n",
       "        <td>security_delay</td>\n",
       "        <td>REAL</td>\n",
       "        <td>0</td>\n",
       "        <td>None</td>\n",
       "        <td>0</td>\n",
       "    </tr>\n",
       "    <tr>\n",
       "        <td>54</td>\n",
       "        <td>late_aircraft_delay</td>\n",
       "        <td>REAL</td>\n",
       "        <td>0</td>\n",
       "        <td>None</td>\n",
       "        <td>0</td>\n",
       "    </tr>\n",
       "    <tr>\n",
       "        <td>55</td>\n",
       "        <td>unnamed: 55</td>\n",
       "        <td>REAL</td>\n",
       "        <td>0</td>\n",
       "        <td>None</td>\n",
       "        <td>0</td>\n",
       "    </tr>\n",
       "</table>"
      ],
      "text/plain": [
       "[(0, 'year', 'INTEGER', 0, None, 0),\n",
       " (1, 'quarter', 'INTEGER', 0, None, 0),\n",
       " (2, 'month', 'INTEGER', 0, None, 0),\n",
       " (3, 'day_of_month', 'INTEGER', 0, None, 0),\n",
       " (4, 'day_of_week', 'INTEGER', 0, None, 0),\n",
       " (5, 'fl_date', 'TEXT', 0, None, 0),\n",
       " (6, 'unique_carrier', 'TEXT', 0, None, 0),\n",
       " (7, 'airline_id', 'INTEGER', 0, None, 0),\n",
       " (8, 'carrier', 'TEXT', 0, None, 0),\n",
       " (9, 'tail_num', 'TEXT', 0, None, 0),\n",
       " (10, 'fl_num', 'INTEGER', 0, None, 0),\n",
       " (11, 'origin_airport_id', 'INTEGER', 0, None, 0),\n",
       " (12, 'origin_airport_seq_id', 'INTEGER', 0, None, 0),\n",
       " (13, 'origin_city_market_id', 'INTEGER', 0, None, 0),\n",
       " (14, 'origin', 'TEXT', 0, None, 0),\n",
       " (15, 'origin_city_name', 'TEXT', 0, None, 0),\n",
       " (16, 'origin_state_abr', 'TEXT', 0, None, 0),\n",
       " (17, 'origin_state_fips', 'INTEGER', 0, None, 0),\n",
       " (18, 'origin_state_nm', 'TEXT', 0, None, 0),\n",
       " (19, 'origin_wac', 'INTEGER', 0, None, 0),\n",
       " (20, 'dest_airport_id', 'INTEGER', 0, None, 0),\n",
       " (21, 'dest_airport_seq_id', 'INTEGER', 0, None, 0),\n",
       " (22, 'dest_city_market_id', 'INTEGER', 0, None, 0),\n",
       " (23, 'dest', 'TEXT', 0, None, 0),\n",
       " (24, 'dest_city_name', 'TEXT', 0, None, 0),\n",
       " (25, 'dest_state_abr', 'TEXT', 0, None, 0),\n",
       " (26, 'dest_state_fips', 'INTEGER', 0, None, 0),\n",
       " (27, 'dest_state_nm', 'TEXT', 0, None, 0),\n",
       " (28, 'dest_wac', 'INTEGER', 0, None, 0),\n",
       " (29, 'crs_dep_time', 'INTEGER', 0, None, 0),\n",
       " (30, 'dep_time', 'REAL', 0, None, 0),\n",
       " (31, 'dep_delay', 'REAL', 0, None, 0),\n",
       " (32, 'dep_delay_new', 'REAL', 0, None, 0),\n",
       " (33, 'dep_del15', 'REAL', 0, None, 0),\n",
       " (34, 'dep_delay_group', 'REAL', 0, None, 0),\n",
       " (35, 'dep_time_blk', 'TEXT', 0, None, 0),\n",
       " (36, 'taxi_out', 'REAL', 0, None, 0),\n",
       " (37, 'wheels_off', 'REAL', 0, None, 0),\n",
       " (38, 'wheels_on', 'REAL', 0, None, 0),\n",
       " (39, 'taxi_in', 'REAL', 0, None, 0),\n",
       " (40, 'crs_arr_time', 'INTEGER', 0, None, 0),\n",
       " (41, 'arr_time', 'REAL', 0, None, 0),\n",
       " (42, 'arr_delay', 'REAL', 0, None, 0),\n",
       " (43, 'arr_delay_new', 'REAL', 0, None, 0),\n",
       " (44, 'arr_del15', 'REAL', 0, None, 0),\n",
       " (45, 'arr_delay_group', 'REAL', 0, None, 0),\n",
       " (46, 'arr_time_blk', 'TEXT', 0, None, 0),\n",
       " (47, 'cancelled', 'REAL', 0, None, 0),\n",
       " (48, 'cancellation_code', 'TEXT', 0, None, 0),\n",
       " (49, 'diverted', 'REAL', 0, None, 0),\n",
       " (50, 'carrier_delay', 'REAL', 0, None, 0),\n",
       " (51, 'weather_delay', 'REAL', 0, None, 0),\n",
       " (52, 'nas_delay', 'REAL', 0, None, 0),\n",
       " (53, 'security_delay', 'REAL', 0, None, 0),\n",
       " (54, 'late_aircraft_delay', 'REAL', 0, None, 0),\n",
       " (55, 'unnamed: 55', 'REAL', 0, None, 0)]"
      ]
     },
     "execution_count": 9,
     "metadata": {},
     "output_type": "execute_result"
    }
   ],
   "source": [
    "%sql PRAGMA table_info(flight_delays);"
   ]
  },
  {
   "cell_type": "markdown",
   "metadata": {},
   "source": [
    "### Q1"
   ]
  },
  {
   "cell_type": "code",
   "execution_count": 22,
   "metadata": {},
   "outputs": [
    {
     "name": "stdout",
     "output_type": "stream",
     "text": [
      "Done.\n"
     ]
    },
    {
     "data": {
      "text/html": [
       "<table>\n",
       "    <tr>\n",
       "        <th>cid</th>\n",
       "        <th>name</th>\n",
       "        <th>type</th>\n",
       "        <th>notnull</th>\n",
       "        <th>dflt_value</th>\n",
       "        <th>pk</th>\n",
       "    </tr>\n",
       "    <tr>\n",
       "        <td>0</td>\n",
       "        <td>airport_id</td>\n",
       "        <td>INTEGER</td>\n",
       "        <td>0</td>\n",
       "        <td>None</td>\n",
       "        <td>0</td>\n",
       "    </tr>\n",
       "    <tr>\n",
       "        <td>1</td>\n",
       "        <td>airport_name</td>\n",
       "        <td>TEXT</td>\n",
       "        <td>0</td>\n",
       "        <td>None</td>\n",
       "        <td>0</td>\n",
       "    </tr>\n",
       "</table>"
      ],
      "text/plain": [
       "[(0, 'airport_id', 'INTEGER', 0, None, 0),\n",
       " (1, 'airport_name', 'TEXT', 0, None, 0)]"
      ]
     },
     "execution_count": 22,
     "metadata": {},
     "output_type": "execute_result"
    }
   ],
   "source": [
    "%sql PRAGMA table_info(airports);"
   ]
  },
  {
   "cell_type": "code",
   "execution_count": 21,
   "metadata": {},
   "outputs": [
    {
     "name": "stdout",
     "output_type": "stream",
     "text": [
      "Done.\n"
     ]
    },
    {
     "data": {
      "text/html": [
       "<table>\n",
       "    <tr>\n",
       "        <th>weekday_name</th>\n",
       "        <th>AVG(f.arr_delay)</th>\n",
       "    </tr>\n",
       "    <tr>\n",
       "        <td>Friday</td>\n",
       "        <td>14.452012705575017</td>\n",
       "    </tr>\n",
       "    <tr>\n",
       "        <td>Monday</td>\n",
       "        <td>10.537501524948151</td>\n",
       "    </tr>\n",
       "    <tr>\n",
       "        <td>Saturday</td>\n",
       "        <td>7.544554592337578</td>\n",
       "    </tr>\n",
       "    <tr>\n",
       "        <td>Sunday</td>\n",
       "        <td>4.211659780807007</td>\n",
       "    </tr>\n",
       "    <tr>\n",
       "        <td>Thursday</td>\n",
       "        <td>8.47985564692658</td>\n",
       "    </tr>\n",
       "    <tr>\n",
       "        <td>Tuesday</td>\n",
       "        <td>4.6315245398299725</td>\n",
       "    </tr>\n",
       "    <tr>\n",
       "        <td>Wednesday</td>\n",
       "        <td>8.4561902339015</td>\n",
       "    </tr>\n",
       "</table>"
      ],
      "text/plain": [
       "[('Friday', 14.452012705575017),\n",
       " ('Monday', 10.537501524948151),\n",
       " ('Saturday', 7.544554592337578),\n",
       " ('Sunday', 4.211659780807007),\n",
       " ('Thursday', 8.47985564692658),\n",
       " ('Tuesday', 4.6315245398299725),\n",
       " ('Wednesday', 8.4561902339015)]"
      ]
     },
     "execution_count": 21,
     "metadata": {},
     "output_type": "execute_result"
    }
   ],
   "source": [
    "%%sql\n",
    "SELECT w.weekday_name, AVG(f.arr_delay)\n",
    "FROM flight_delays f\n",
    "    LEFT JOIN weekdays w ON f.day_of_week = w.weekday_id\n",
    "GROUP BY w.weekday_name;"
   ]
  },
  {
   "cell_type": "markdown",
   "metadata": {},
   "source": [
    "### Q2"
   ]
  },
  {
   "cell_type": "code",
   "execution_count": 47,
   "metadata": {},
   "outputs": [
    {
     "name": "stdout",
     "output_type": "stream",
     "text": [
      "Done.\n"
     ]
    },
    {
     "data": {
      "text/html": [
       "<table>\n",
       "    <tr>\n",
       "        <th>airline_name</th>\n",
       "        <th>arr_delay_average</th>\n",
       "    </tr>\n",
       "    <tr>\n",
       "        <td>JetBlue Airways: B6</td>\n",
       "        <td>21.459498403302437</td>\n",
       "    </tr>\n",
       "    <tr>\n",
       "        <td>American Airlines Inc.: AA</td>\n",
       "        <td>11.186316345868732</td>\n",
       "    </tr>\n",
       "    <tr>\n",
       "        <td>Frontier Airlines Inc.: F9</td>\n",
       "        <td>10.106046316671906</td>\n",
       "    </tr>\n",
       "    <tr>\n",
       "        <td>SkyWest Airlines Inc.: OO</td>\n",
       "        <td>9.099801905480614</td>\n",
       "    </tr>\n",
       "    <tr>\n",
       "        <td>Southwest Airlines Co.: WN</td>\n",
       "        <td>8.777705490592203</td>\n",
       "    </tr>\n",
       "    <tr>\n",
       "        <td>United Air Lines Inc.: UA</td>\n",
       "        <td>6.730333043511133</td>\n",
       "    </tr>\n",
       "    <tr>\n",
       "        <td>Virgin America: VX</td>\n",
       "        <td>6.066317340756509</td>\n",
       "    </tr>\n",
       "    <tr>\n",
       "        <td>Delta Air Lines Inc.: DL</td>\n",
       "        <td>2.783035510698813</td>\n",
       "    </tr>\n",
       "    <tr>\n",
       "        <td>Hawaiian Airlines Inc.: HA</td>\n",
       "        <td>-0.2698805109188298</td>\n",
       "    </tr>\n",
       "    <tr>\n",
       "        <td>Alaska Airlines Inc.: AS</td>\n",
       "        <td>-1.1098173650924996</td>\n",
       "    </tr>\n",
       "</table>"
      ],
      "text/plain": [
       "[('JetBlue Airways: B6', 21.459498403302437),\n",
       " ('American Airlines Inc.: AA', 11.186316345868732),\n",
       " ('Frontier Airlines Inc.: F9', 10.106046316671906),\n",
       " ('SkyWest Airlines Inc.: OO', 9.099801905480614),\n",
       " ('Southwest Airlines Co.: WN', 8.777705490592203),\n",
       " ('United Air Lines Inc.: UA', 6.730333043511133),\n",
       " ('Virgin America: VX', 6.066317340756509),\n",
       " ('Delta Air Lines Inc.: DL', 2.783035510698813),\n",
       " ('Hawaiian Airlines Inc.: HA', -0.2698805109188298),\n",
       " ('Alaska Airlines Inc.: AS', -1.1098173650924996)]"
      ]
     },
     "execution_count": 47,
     "metadata": {},
     "output_type": "execute_result"
    }
   ],
   "source": [
    "%%sql\n",
    "SELECT a.airline_name, AVG(f.arr_delay) as arr_delay_average\n",
    "FROM flight_delays f\n",
    "    LEFT JOIN airlines a ON f.airline_id = a.airline_id\n",
    "WHERE a.airline_name IN (\n",
    "    SELECT DISTINCT a.airline_name\n",
    "    FROM flight_delays f\n",
    "        LEFT JOIN airlines a ON f.airline_id = a.airline_id\n",
    "    WHERE f.origin = 'SFO'\n",
    ")\n",
    "GROUP BY a.airline_name\n",
    "ORDER BY arr_delay_average DESC;"
   ]
  },
  {
   "cell_type": "markdown",
   "metadata": {},
   "source": [
    "### Q3"
   ]
  },
  {
   "cell_type": "code",
   "execution_count": 48,
   "metadata": {},
   "outputs": [
    {
     "name": "stdout",
     "output_type": "stream",
     "text": [
      "Done.\n"
     ]
    },
    {
     "data": {
      "text/html": [
       "<table>\n",
       "    <tr>\n",
       "        <th>airline_name</th>\n",
       "        <th>arr_delay_average</th>\n",
       "    </tr>\n",
       "    <tr>\n",
       "        <td>American Airlines Inc.: AA</td>\n",
       "        <td>11.186316345868732</td>\n",
       "    </tr>\n",
       "    <tr>\n",
       "        <td>ExpressJet Airlines Inc.: EV</td>\n",
       "        <td>10.766844881917644</td>\n",
       "    </tr>\n",
       "    <tr>\n",
       "        <td>Frontier Airlines Inc.: F9</td>\n",
       "        <td>10.106046316671906</td>\n",
       "    </tr>\n",
       "    <tr>\n",
       "        <td>JetBlue Airways: B6</td>\n",
       "        <td>21.459498403302437</td>\n",
       "    </tr>\n",
       "</table>"
      ],
      "text/plain": [
       "[('American Airlines Inc.: AA', 11.186316345868732),\n",
       " ('ExpressJet Airlines Inc.: EV', 10.766844881917644),\n",
       " ('Frontier Airlines Inc.: F9', 10.106046316671906),\n",
       " ('JetBlue Airways: B6', 21.459498403302437)]"
      ]
     },
     "execution_count": 48,
     "metadata": {},
     "output_type": "execute_result"
    }
   ],
   "source": [
    "%%sql\n",
    "SELECT a.airline_name, AVG(f.arr_delay) as arr_delay_average\n",
    "FROM flight_delays f\n",
    "    LEFT JOIN airlines a ON f.airline_id = a.airline_id\n",
    "GROUP BY a.airline_name\n",
    "HAVING arr_delay_average > 10"
   ]
  },
  {
   "cell_type": "markdown",
   "metadata": {},
   "source": [
    "### Q4"
   ]
  },
  {
   "cell_type": "code",
   "execution_count": 61,
   "metadata": {},
   "outputs": [
    {
     "name": "stdout",
     "output_type": "stream",
     "text": [
      "Done.\n"
     ]
    },
    {
     "data": {
      "text/html": [
       "<table>\n",
       "    <tr>\n",
       "        <th>CAST(COUNT(*) AS float) / (SELECT COUNT(DISTINCT airline_id)<br>FROM flight_delays)</th>\n",
       "    </tr>\n",
       "    <tr>\n",
       "        <td>0.3333333333333333</td>\n",
       "    </tr>\n",
       "</table>"
      ],
      "text/plain": [
       "[(0.3333333333333333,)]"
      ]
     },
     "execution_count": 61,
     "metadata": {},
     "output_type": "execute_result"
    }
   ],
   "source": [
    "%%sql\n",
    "SELECT CAST(COUNT(*) AS float) / (SELECT COUNT(DISTINCT airline_id)\n",
    "FROM flight_delays)\n",
    "FROM (\n",
    "    SELECT a.airline_name, AVG(f.arr_delay) as arr_delay_average\n",
    "    FROM flight_delays f\n",
    "        LEFT JOIN airlines a ON f.airline_id = a.airline_id\n",
    "    GROUP BY a.airline_name\n",
    "    HAVING arr_delay_average > 10\n",
    ");"
   ]
  },
  {
   "cell_type": "markdown",
   "metadata": {},
   "source": [
    "### Q5a"
   ]
  },
  {
   "cell_type": "code",
   "execution_count": 65,
   "metadata": {},
   "outputs": [
    {
     "name": "stdout",
     "output_type": "stream",
     "text": [
      "Done.\n"
     ]
    },
    {
     "data": {
      "text/html": [
       "<table>\n",
       "    <tr>\n",
       "        <th>1 / CAST(COUNT(*) - 1 AS float)</th>\n",
       "    </tr>\n",
       "    <tr>\n",
       "        <td>1.9643702523626464e-06</td>\n",
       "    </tr>\n",
       "</table>"
      ],
      "text/plain": [
       "[(1.9643702523626464e-06,)]"
      ]
     },
     "execution_count": 65,
     "metadata": {},
     "output_type": "execute_result"
    }
   ],
   "source": [
    "%%sql\n",
    "SELECT 1 / CAST(COUNT(*) - 1 AS float)\n",
    "FROM flight_delays;"
   ]
  },
  {
   "cell_type": "markdown",
   "metadata": {},
   "source": [
    "### Q5b"
   ]
  },
  {
   "cell_type": "code",
   "execution_count": 73,
   "metadata": {},
   "outputs": [
    {
     "name": "stdout",
     "output_type": "stream",
     "text": [
      "Done.\n"
     ]
    },
    {
     "data": {
      "text/html": [
       "<table>\n",
       "    <tr>\n",
       "        <th>(<br>        f.dep_delay<br>            - (SELECT AVG(fdep.dep_delay) FROM flight_delays fdep)<br>    )<br>        * (<br>            f.arr_delay<br>            - (SELECT AVG(farr.arr_delay) FROM flight_delays farr)<br>        )</th>\n",
       "    </tr>\n",
       "    <tr>\n",
       "        <td>934.4839764507938</td>\n",
       "    </tr>\n",
       "    <tr>\n",
       "        <td>587.4803955715038</td>\n",
       "    </tr>\n",
       "    <tr>\n",
       "        <td>535.7895547491927</td>\n",
       "    </tr>\n",
       "    <tr>\n",
       "        <td>742.7399314481147</td>\n",
       "    </tr>\n",
       "    <tr>\n",
       "        <td>600.5845629261472</td>\n",
       "    </tr>\n",
       "    <tr>\n",
       "        <td>1151.400785362908</td>\n",
       "    </tr>\n",
       "    <tr>\n",
       "        <td>417.6574053741945</td>\n",
       "    </tr>\n",
       "    <tr>\n",
       "        <td>5.664173134742828</td>\n",
       "    </tr>\n",
       "    <tr>\n",
       "        <td>122.61210995443744</td>\n",
       "    </tr>\n",
       "    <tr>\n",
       "        <td>202.8621592041914</td>\n",
       "    </tr>\n",
       "</table>"
      ],
      "text/plain": [
       "[(934.4839764507938,),\n",
       " (587.4803955715038,),\n",
       " (535.7895547491927,),\n",
       " (742.7399314481147,),\n",
       " (600.5845629261472,),\n",
       " (1151.400785362908,),\n",
       " (417.6574053741945,),\n",
       " (5.664173134742828,),\n",
       " (122.61210995443744,),\n",
       " (202.8621592041914,)]"
      ]
     },
     "execution_count": 73,
     "metadata": {},
     "output_type": "execute_result"
    }
   ],
   "source": [
    "%%sql\n",
    "SELECT\n",
    "    (\n",
    "        f.dep_delay\n",
    "            - (SELECT AVG(fdep.dep_delay) FROM flight_delays fdep)\n",
    "    )\n",
    "        * (\n",
    "            f.arr_delay\n",
    "            - (SELECT AVG(farr.arr_delay) FROM flight_delays farr)\n",
    "        )\n",
    "FROM flight_delays f\n",
    "LIMIT 10;\n"
   ]
  },
  {
   "cell_type": "markdown",
   "metadata": {},
   "source": [
    "### Q5c"
   ]
  },
  {
   "cell_type": "code",
   "execution_count": 74,
   "metadata": {},
   "outputs": [
    {
     "name": "stdout",
     "output_type": "stream",
     "text": [
      "Done.\n"
     ]
    },
    {
     "data": {
      "text/html": [
       "<table>\n",
       "    <tr>\n",
       "        <th>SUM(<br>    (<br>        f.dep_delay<br>            - (SELECT AVG(fdep.dep_delay) FROM flight_delays fdep)<br>    )<br>        * (<br>            f.arr_delay<br>            - (SELECT AVG(farr.arr_delay) FROM flight_delays farr)<br>        )<br>)</th>\n",
       "    </tr>\n",
       "    <tr>\n",
       "        <td>1205104163.0847344</td>\n",
       "    </tr>\n",
       "</table>"
      ],
      "text/plain": [
       "[(1205104163.0847344,)]"
      ]
     },
     "execution_count": 74,
     "metadata": {},
     "output_type": "execute_result"
    }
   ],
   "source": [
    "%%sql\n",
    "SELECT SUM(\n",
    "    (\n",
    "        f.dep_delay\n",
    "            - (SELECT AVG(fdep.dep_delay) FROM flight_delays fdep)\n",
    "    )\n",
    "        * (\n",
    "            f.arr_delay\n",
    "            - (SELECT AVG(farr.arr_delay) FROM flight_delays farr)\n",
    "        )\n",
    ")\n",
    "FROM flight_delays f;"
   ]
  },
  {
   "cell_type": "markdown",
   "metadata": {},
   "source": [
    "### Q5d"
   ]
  },
  {
   "cell_type": "code",
   "execution_count": 83,
   "metadata": {},
   "outputs": [
    {
     "name": "stdout",
     "output_type": "stream",
     "text": [
      "Done.\n"
     ]
    },
    {
     "data": {
      "text/html": [
       "<table>\n",
       "    <tr>\n",
       "        <th>SUM(<br>    (<br>        f.dep_delay<br>            - (SELECT AVG(fdep.dep_delay) FROM flight_delays fdep)<br>    )<br>        * (<br>            f.arr_delay<br>            - (SELECT AVG(farr.arr_delay) FROM flight_delays farr)<br>        )<br>) * (<br>    SELECT 1 / CAST(COUNT(*) - 1 AS float)<br>    FROM flight_delays<br>)</th>\n",
       "    </tr>\n",
       "    <tr>\n",
       "        <td>2367.2707689620356</td>\n",
       "    </tr>\n",
       "</table>"
      ],
      "text/plain": [
       "[(2367.2707689620356,)]"
      ]
     },
     "execution_count": 83,
     "metadata": {},
     "output_type": "execute_result"
    }
   ],
   "source": [
    "%%sql\n",
    "\n",
    "SELECT SUM(\n",
    "    (\n",
    "        f.dep_delay\n",
    "            - (SELECT AVG(fdep.dep_delay) FROM flight_delays fdep)\n",
    "    )\n",
    "        * (\n",
    "            f.arr_delay\n",
    "            - (SELECT AVG(farr.arr_delay) FROM flight_delays farr)\n",
    "        )\n",
    ") * (\n",
    "    SELECT 1 / CAST(COUNT(*) - 1 AS float)\n",
    "    FROM flight_delays\n",
    ")\n",
    "FROM flight_delays f"
   ]
  },
  {
   "cell_type": "markdown",
   "metadata": {},
   "source": [
    "### Q6"
   ]
  },
  {
   "cell_type": "code",
   "execution_count": 93,
   "metadata": {},
   "outputs": [
    {
     "name": "stdout",
     "output_type": "stream",
     "text": [
      "Done.\n"
     ]
    },
    {
     "data": {
      "text/html": [
       "<table>\n",
       "    <tr>\n",
       "        <th>airline_name</th>\n",
       "    </tr>\n",
       "    <tr>\n",
       "        <td>SkyWest Airlines Inc.: OO</td>\n",
       "    </tr>\n",
       "    <tr>\n",
       "        <td>United Air Lines Inc.: UA</td>\n",
       "    </tr>\n",
       "</table>"
      ],
      "text/plain": [
       "[('SkyWest Airlines Inc.: OO',), ('United Air Lines Inc.: UA',)]"
      ]
     },
     "execution_count": 93,
     "metadata": {},
     "output_type": "execute_result"
    }
   ],
   "source": [
    "%%sql\n",
    "\n",
    "SELECT DISTINCT a.airline_name\n",
    "FROM flight_delays f\n",
    "    LEFT JOIN airlines a ON f.airline_id = a.airline_id\n",
    "WHERE airline_name IN (\n",
    "    SELECT a.airline_name\n",
    "    FROM flight_delays f\n",
    "        LEFT JOIN airlines a ON f.airline_id = a.airline_id\n",
    "    WHERE f.origin = 'SFO' AND f.dest = 'PDX'\n",
    ")\n",
    "    AND airline_name IN (\n",
    "        SELECT a.airline_name\n",
    "        FROM flight_delays f\n",
    "            LEFT JOIN airlines a ON f.airline_id = a.airline_id\n",
    "        WHERE f.origin = 'SFO' AND f.dest = 'EUG'\n",
    "    );"
   ]
  },
  {
   "cell_type": "code",
   "execution_count": null,
   "metadata": {},
   "outputs": [],
   "source": []
  }
 ],
 "metadata": {
  "kernelspec": {
   "display_name": "Python 3",
   "language": "python",
   "name": "python3"
  },
  "language_info": {
   "codemirror_mode": {
    "name": "ipython",
    "version": 3
   },
   "file_extension": ".py",
   "mimetype": "text/x-python",
   "name": "python",
   "nbconvert_exporter": "python",
   "pygments_lexer": "ipython3",
   "version": "3.6.4"
  }
 },
 "nbformat": 4,
 "nbformat_minor": 2
}
