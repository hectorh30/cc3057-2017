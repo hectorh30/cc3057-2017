{
 "cells": [
  {
   "cell_type": "markdown",
   "metadata": {},
   "source": [
    "Clase 6-1\n",
    "------------\n",
    "\n",
    "## Dependencias funcionales (FDs) y cerraduras\n",
    "\n",
    "Dado un conjunto de atributos  $\\{A_1, \\dots, A_n\\}$ y un conjunto de FDs $\\Gamma$\n",
    "\n",
    "La cerradura denotada por $\\{A_1, \\dots, A_n\\}^+$, se define como el conjunto más grande de atributos B tales que: \n",
    "\n",
    "$$A_1,\\dots,A_n \\rightarrow B \\text{ usando } \\Gamma.$$\n",
    "\n",
    "A continuación se cargan algunas funciones que calculan la cerradura (_closure_) de un conjunto de atributos (solo para Python 2.7):"
   ]
  },
  {
   "cell_type": "code",
   "execution_count": 12,
   "metadata": {},
   "outputs": [],
   "source": [
    "from closure import compute_closure"
   ]
  },
  {
   "cell_type": "markdown",
   "metadata": {},
   "source": [
    "### Ejercicio 1\n",
    "\n",
    "Considere un esquema con atributos $X=\\{A,B,C,D,E,F,G,H\\}$.\n",
    "\n",
    "En este ejercicio se le dará un conjunto de atributos $A\\subset X$ ($A$ subconjunto de $X$) y un conjunto de FDs $S$. Encuentre **una dependencia funcional** que al ser agregada a $S$ resulte en que la cerradura $A^+=X$.\n",
    "\n",
    "$A = \\{A, B, F\\}$\n",
    "\n",
    "$S = \\{\\{A, C\\} \\rightarrow D, \\{D, H, G\\} \\rightarrow E, \\{A, B\\} \\rightarrow G, \\{F, B, G\\} \\rightarrow C\\}$\n",
    "\n",
    "Puede apoyarse en la función `compute_closure` como sigue:"
   ]
  },
  {
   "cell_type": "code",
   "execution_count": 2,
   "metadata": {},
   "outputs": [],
   "source": [
    "A = set(['A', 'B','F'])\n",
    "S = [\n",
    "    (\n",
    "        set(['A', 'C']),\n",
    "        'D'\n",
    "    ),\n",
    "     (\n",
    "         set(['D','H', 'G']),\n",
    "         'E'\n",
    "     ),\n",
    "     (\n",
    "         set(['A', 'B']),\n",
    "         'G'\n",
    "     ),\n",
    "     (\n",
    "         set(['F', 'B', 'G']),\n",
    "         'C'\n",
    "     )\n",
    "]"
   ]
  },
  {
   "cell_type": "code",
   "execution_count": null,
   "metadata": {},
   "outputs": [],
   "source": [
    "compute_closure(A,S)"
   ]
  },
  {
   "cell_type": "markdown",
   "metadata": {},
   "source": [
    "#### Solución:"
   ]
  },
  {
   "cell_type": "markdown",
   "metadata": {},
   "source": []
  },
  {
   "cell_type": "markdown",
   "metadata": {},
   "source": [
    "## Superllaves y llaves\n",
    "\n",
    "* Una _superllave_ para una relación $R(B_1,\\dots,B_m)$ es un conjunto de atributos $\\{A_1,\\dots,A_n\\}$ tales que:\n",
    "\n",
    "$$ \\{A_1,\\dots,A_n\\} \\rightarrow B_{j} \\text{ para todo } j=1,\\dots m$$\n",
    "\n",
    "* Una _llave_ es una _superllave_ mínima:\n",
    "\n",
    "Para determinar si un conjunto de atributos $A$ es una super llave para una relación con un conjunto de atributos $X$, basta con verificar si $A^+=X$.:"
   ]
  },
  {
   "cell_type": "code",
   "execution_count": 13,
   "metadata": {},
   "outputs": [],
   "source": [
    "def is_superkey_for(A, X, fds, verbose=False): \n",
    "    return X.issubset(compute_closure(A, fds, verbose=verbose))"
   ]
  },
  {
   "cell_type": "markdown",
   "metadata": {},
   "source": [
    "Luego, para verificar si $A$ es una llave para $X$ se debe verificar que no hayan _superllaves_ más pequeñas."
   ]
  },
  {
   "cell_type": "code",
   "execution_count": 14,
   "metadata": {},
   "outputs": [],
   "source": [
    "import itertools\n",
    "def is_key_for(A, X, fds, verbose=False):\n",
    "    subsets = set(itertools.combinations(A, len(A)-1))\n",
    "    return is_superkey_for(A, X, fds) and \\\n",
    "        all([not is_superkey_for(set(SA), X, fds) for SA in subsets])"
   ]
  },
  {
   "cell_type": "markdown",
   "metadata": {},
   "source": [
    "### Ejercicio 2\n",
    "\n",
    "Dado el esquema $R=\\{A,B,C\\}$, defina un conjunto de FDs tales que existan dos _y solo dos_ llaves.\n",
    "\n",
    "Puede chequear su respuesta con el uso de las funciones anteriores."
   ]
  },
  {
   "cell_type": "code",
   "execution_count": 11,
   "metadata": {},
   "outputs": [],
   "source": [
    "R = set(['A','B','C'])"
   ]
  },
  {
   "cell_type": "markdown",
   "metadata": {},
   "source": [
    "#### Solución:"
   ]
  },
  {
   "cell_type": "markdown",
   "metadata": {
    "collapsed": true
   },
   "source": []
  },
  {
   "cell_type": "markdown",
   "metadata": {},
   "source": [
    "### Ejercicio 3\n",
    "\n",
    "Dada la relación $R(A, B, C, D, E)$ y las herramientas definidas anteriormente, defina un conjunto de FDs que resulte en la mayor cantidad de llaves posible."
   ]
  },
  {
   "cell_type": "code",
   "execution_count": 18,
   "metadata": {},
   "outputs": [],
   "source": [
    "R = set(['A','B','C','D','E'])\n",
    "S = [\n",
    "    (set(['A']), 'B'),\n",
    "    (set(['B']), 'C'),\n",
    "    (set(['C']), 'D'),\n",
    "    (set(['D']), 'E'),\n",
    "    (set(['E']), 'A')\n",
    "]"
   ]
  },
  {
   "cell_type": "markdown",
   "metadata": {},
   "source": [
    "#### Solución:"
   ]
  },
  {
   "cell_type": "code",
   "execution_count": 24,
   "metadata": {},
   "outputs": [
    {
     "name": "stdout",
     "output_type": "stream",
     "text": [
      "True\n",
      "True\n",
      "True\n",
      "True\n",
      "True\n",
      "False\n",
      "False\n",
      "False\n",
      "False\n",
      "False\n"
     ]
    }
   ],
   "source": [
    "print is_key_for(set(['A']), R, S);\n",
    "print is_key_for(set(['B']), R, S);\n",
    "print is_key_for(set(['C']), R, S);\n",
    "print is_key_for(set(['D']), R, S);\n",
    "print is_key_for(set(['E']), R, S);\n",
    "print is_key_for(set(['A', 'B']), R, S);\n",
    "print is_key_for(set(['A', 'C']), R, S);\n",
    "print is_key_for(set(['A', 'D']), R, S);\n",
    "print is_key_for(set(['A', 'E']), R, S);\n",
    "print is_key_for(set(['B', 'C']), R, S);\n"
   ]
  },
  {
   "cell_type": "code",
   "execution_count": null,
   "metadata": {},
   "outputs": [],
   "source": []
  }
 ],
 "metadata": {
  "kernelspec": {
   "display_name": "Python 2",
   "language": "python",
   "name": "python2"
  },
  "language_info": {
   "codemirror_mode": {
    "name": "ipython",
    "version": 2
   },
   "file_extension": ".py",
   "mimetype": "text/x-python",
   "name": "python",
   "nbconvert_exporter": "python",
   "pygments_lexer": "ipython2",
   "version": "2.7.14"
  }
 },
 "nbformat": 4,
 "nbformat_minor": 1
}
