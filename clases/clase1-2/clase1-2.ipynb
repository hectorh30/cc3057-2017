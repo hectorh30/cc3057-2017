{
 "cells": [
  {
   "cell_type": "markdown",
   "metadata": {},
   "source": [
    "Clase 1-2 Noción de bases de datos e introducción a SQL\n",
    "------------------------------------------------------------------"
   ]
  },
  {
   "cell_type": "markdown",
   "metadata": {},
   "source": [
    "### Actividad 0\n",
    "\n",
    "Complete la instalación de Jupyter junto con el módulo `ipython-sql` de acuerdo a las indicaciones descritas en la [presentación de la clase1](https://github.com/hectorh30/cc3057-2017/blob/master/clases/clase1-introduccion/clase1.pdf)."
   ]
  },
  {
   "cell_type": "code",
   "execution_count": 1,
   "metadata": {},
   "outputs": [],
   "source": [
    "%load_ext sql"
   ]
  },
  {
   "cell_type": "markdown",
   "metadata": {},
   "source": [
    "### Creando tablas en SQL\n",
    "\n",
    "Antes de introducirnos a los queries SQL básicos (es decir, hacer consultas), veremos un poco acerca de cómo **crear** tablas.\n",
    "\n",
    "Before we actually get into basic SQL queries (**asking questions _of_ data in tables**), we'll look at some of the basics about how to **create** tables.\n",
    "\n",
    "**NOTA: Asegúrese de contar con el la base de datos [dataset_1.db](https://github.com/hectorh30/cc3057-2017/blob/master/laboratorios/lab1/dataset_1.db) del laboratorio dentro de la carpeta en donde tiene este notebook.**"
   ]
  },
  {
   "cell_type": "code",
   "execution_count": 2,
   "metadata": {},
   "outputs": [
    {
     "data": {
      "text/plain": [
       "'Connected: None@dataset_1.db'"
      ]
     },
     "execution_count": 2,
     "metadata": {},
     "output_type": "execute_result"
    }
   ],
   "source": [
    "%sql sqlite:///dataset_1.db"
   ]
  },
  {
   "cell_type": "code",
   "execution_count": null,
   "metadata": {},
   "outputs": [],
   "source": []
  },
  {
   "cell_type": "markdown",
   "metadata": {},
   "source": [
    "### Actividad 1\n",
    "\n",
    "Esquemas y creación de tablas"
   ]
  },
  {
   "cell_type": "markdown",
   "metadata": {},
   "source": [
    "Recuerde de la clase anterior que la base de datos cuenta con la tabla `precipitation_full` que tiene el siguiente esquema:\n",
    "\n",
    "> * `state_code`\n",
    "> * `station_id`\n",
    "> * `year`\n",
    "> * `month`\n",
    "> * `day`\n",
    "> * `hour`\n",
    "> * `precipitation`\n",
    "> * `flag_1`\n",
    "> * `flag_2`\n",
    "\n",
    "Cada *tupla* en esta tabla denota una fecha (denotada por `year`, `month` y `day`) y hora (`hour`) durante la cual fue medida la cantidad de lluvia (almacenada en `precipitation`), medida en centésimos de pulgada, en una estación (`station_id`) dentro de un estado (`state_code`).\n",
    "\n",
    "Note que las tuplas con `hour=25` almacenan el total de lluvia para ese día. Los *atributos* `flag_1` y `flag_2` no son relevantes por el momento."
   ]
  },
  {
   "cell_type": "markdown",
   "metadata": {},
   "source": [
    "Veamos ahora cómo consultar el **esquema** (_schema_) de una tabla existente. Existen diversas formas de hacer esto, entre las cuales están:\n",
    "\n",
    "* DESCRIBE tablename\n",
    "* SHOW CREATE TABLE tablename\n",
    "* SHOW COLUMNS tablename\n",
    "\n",
    "Desafortunadamente, el soporte para estas instrucciones varía grandemente entre DBMSs, además de contar con la limitante de IPython actual.\n",
    "\n",
    "Por ejemplo, `SQLite`, que es el DBMS que está usando actualmente, no soporta estas instrucciones, y cuenta con un comando `.schema tablename` que no es compatible con este notebook."
   ]
  },
  {
   "cell_type": "markdown",
   "metadata": {},
   "source": [
    "*Investigue la sintaxis del comando `PRAGMA` de SQLite y ejecute, en combinación con el comando `SELECT`, la instrucción necesaria para visualizar la información del esquema de la tabla `precipitation_full`.*\n",
    "\n",
    "**NOTA: Recuerde iniciar sus comandos de sql con `%sql` para comandos de una línea y `%%sql` para comandos de múltiples líneas**"
   ]
  },
  {
   "cell_type": "code",
   "execution_count": 8,
   "metadata": {},
   "outputs": [
    {
     "name": "stdout",
     "output_type": "stream",
     "text": [
      "Done.\n"
     ]
    },
    {
     "data": {
      "text/html": [
       "<table>\n",
       "    <tr>\n",
       "        <th>cid</th>\n",
       "        <th>name</th>\n",
       "        <th>type</th>\n",
       "        <th>notnull</th>\n",
       "        <th>dflt_value</th>\n",
       "        <th>pk</th>\n",
       "    </tr>\n",
       "    <tr>\n",
       "        <td>0</td>\n",
       "        <td>state_code</td>\n",
       "        <td>INT</td>\n",
       "        <td>0</td>\n",
       "        <td>None</td>\n",
       "        <td>0</td>\n",
       "    </tr>\n",
       "    <tr>\n",
       "        <td>1</td>\n",
       "        <td>station_id</td>\n",
       "        <td>INT</td>\n",
       "        <td>0</td>\n",
       "        <td>None</td>\n",
       "        <td>0</td>\n",
       "    </tr>\n",
       "    <tr>\n",
       "        <td>2</td>\n",
       "        <td>year</td>\n",
       "        <td>INT</td>\n",
       "        <td>0</td>\n",
       "        <td>None</td>\n",
       "        <td>0</td>\n",
       "    </tr>\n",
       "    <tr>\n",
       "        <td>3</td>\n",
       "        <td>month</td>\n",
       "        <td>INT</td>\n",
       "        <td>0</td>\n",
       "        <td>None</td>\n",
       "        <td>0</td>\n",
       "    </tr>\n",
       "    <tr>\n",
       "        <td>4</td>\n",
       "        <td>day</td>\n",
       "        <td>INT</td>\n",
       "        <td>0</td>\n",
       "        <td>None</td>\n",
       "        <td>0</td>\n",
       "    </tr>\n",
       "    <tr>\n",
       "        <td>5</td>\n",
       "        <td>hour</td>\n",
       "        <td>INT</td>\n",
       "        <td>0</td>\n",
       "        <td>None</td>\n",
       "        <td>0</td>\n",
       "    </tr>\n",
       "    <tr>\n",
       "        <td>6</td>\n",
       "        <td>precipitation</td>\n",
       "        <td>INT</td>\n",
       "        <td>0</td>\n",
       "        <td>None</td>\n",
       "        <td>0</td>\n",
       "    </tr>\n",
       "    <tr>\n",
       "        <td>7</td>\n",
       "        <td>flag_1</td>\n",
       "        <td>VARCHAR(1)</td>\n",
       "        <td>0</td>\n",
       "        <td>None</td>\n",
       "        <td>0</td>\n",
       "    </tr>\n",
       "    <tr>\n",
       "        <td>8</td>\n",
       "        <td>flag_2</td>\n",
       "        <td>VARCHAR(1)</td>\n",
       "        <td>0</td>\n",
       "        <td>None</td>\n",
       "        <td>0</td>\n",
       "    </tr>\n",
       "</table>"
      ],
      "text/plain": [
       "[(0, 'state_code', 'INT', 0, None, 0),\n",
       " (1, 'station_id', 'INT', 0, None, 0),\n",
       " (2, 'year', 'INT', 0, None, 0),\n",
       " (3, 'month', 'INT', 0, None, 0),\n",
       " (4, 'day', 'INT', 0, None, 0),\n",
       " (5, 'hour', 'INT', 0, None, 0),\n",
       " (6, 'precipitation', 'INT', 0, None, 0),\n",
       " (7, 'flag_1', 'VARCHAR(1)', 0, None, 0),\n",
       " (8, 'flag_2', 'VARCHAR(1)', 0, None, 0)]"
      ]
     },
     "execution_count": 8,
     "metadata": {},
     "output_type": "execute_result"
    }
   ],
   "source": [
    "%sql PRAGMA table_info('precipitation_full');"
   ]
  },
  {
   "cell_type": "code",
   "execution_count": 10,
   "metadata": {},
   "outputs": [
    {
     "name": "stdout",
     "output_type": "stream",
     "text": [
      "Done.\n"
     ]
    },
    {
     "data": {
      "text/html": [
       "<table>\n",
       "    <tr>\n",
       "        <th>flag_1</th>\n",
       "    </tr>\n",
       "    <tr>\n",
       "        <td>[</td>\n",
       "    </tr>\n",
       "    <tr>\n",
       "        <td>I</td>\n",
       "    </tr>\n",
       "    <tr>\n",
       "        <td>]</td>\n",
       "    </tr>\n",
       "    <tr>\n",
       "        <td>I</td>\n",
       "    </tr>\n",
       "    <tr>\n",
       "        <td>g</td>\n",
       "    </tr>\n",
       "    <tr>\n",
       "        <td></td>\n",
       "    </tr>\n",
       "    <tr>\n",
       "        <td></td>\n",
       "    </tr>\n",
       "    <tr>\n",
       "        <td></td>\n",
       "    </tr>\n",
       "    <tr>\n",
       "        <td></td>\n",
       "    </tr>\n",
       "    <tr>\n",
       "        <td></td>\n",
       "    </tr>\n",
       "    <tr>\n",
       "        <td></td>\n",
       "    </tr>\n",
       "    <tr>\n",
       "        <td></td>\n",
       "    </tr>\n",
       "    <tr>\n",
       "        <td></td>\n",
       "    </tr>\n",
       "    <tr>\n",
       "        <td></td>\n",
       "    </tr>\n",
       "    <tr>\n",
       "        <td></td>\n",
       "    </tr>\n",
       "    <tr>\n",
       "        <td></td>\n",
       "    </tr>\n",
       "    <tr>\n",
       "        <td></td>\n",
       "    </tr>\n",
       "    <tr>\n",
       "        <td></td>\n",
       "    </tr>\n",
       "    <tr>\n",
       "        <td></td>\n",
       "    </tr>\n",
       "    <tr>\n",
       "        <td></td>\n",
       "    </tr>\n",
       "    <tr>\n",
       "        <td></td>\n",
       "    </tr>\n",
       "    <tr>\n",
       "        <td></td>\n",
       "    </tr>\n",
       "    <tr>\n",
       "        <td></td>\n",
       "    </tr>\n",
       "    <tr>\n",
       "        <td></td>\n",
       "    </tr>\n",
       "    <tr>\n",
       "        <td></td>\n",
       "    </tr>\n",
       "    <tr>\n",
       "        <td></td>\n",
       "    </tr>\n",
       "    <tr>\n",
       "        <td></td>\n",
       "    </tr>\n",
       "    <tr>\n",
       "        <td>g</td>\n",
       "    </tr>\n",
       "    <tr>\n",
       "        <td></td>\n",
       "    </tr>\n",
       "    <tr>\n",
       "        <td>T</td>\n",
       "    </tr>\n",
       "</table>"
      ],
      "text/plain": [
       "[('[',),\n",
       " ('I',),\n",
       " (']',),\n",
       " ('I',),\n",
       " ('g',),\n",
       " ('',),\n",
       " ('',),\n",
       " ('',),\n",
       " ('',),\n",
       " ('',),\n",
       " ('',),\n",
       " ('',),\n",
       " ('',),\n",
       " ('',),\n",
       " ('',),\n",
       " ('',),\n",
       " ('',),\n",
       " ('',),\n",
       " ('',),\n",
       " ('',),\n",
       " ('',),\n",
       " ('',),\n",
       " ('',),\n",
       " ('',),\n",
       " ('',),\n",
       " ('',),\n",
       " ('',),\n",
       " ('g',),\n",
       " ('',),\n",
       " ('T',)]"
      ]
     },
     "execution_count": 10,
     "metadata": {},
     "output_type": "execute_result"
    }
   ],
   "source": [
    "%sql SELECT flag_1 FROM precipitation_full LIMIT 30;"
   ]
  },
  {
   "cell_type": "markdown",
   "metadata": {},
   "source": [
    "Otra alternativa útil al trabajar con DBMSs SQL es analizar el esquema de una tabla a partir de la información almacenada por el mismo DBMS, tambien en tablas."
   ]
  },
  {
   "cell_type": "markdown",
   "metadata": {},
   "source": [
    "*Investigue el contenido de la tabla interna `sqlite_master` utilizada por SQLite para almacenar la definición de las tablas de usuario. Luego ejecute la instrucción `SELECT` necesaria para la información almacenada en esa tabla*"
   ]
  },
  {
   "cell_type": "code",
   "execution_count": null,
   "metadata": {},
   "outputs": [],
   "source": []
  },
  {
   "cell_type": "markdown",
   "metadata": {},
   "source": [
    "El atributo `sql` del resultado anterior contiene la instrucción necesaria para *crear* la tabla `precipitation_full`.\n",
    "\n",
    "Suponga que los miembros de la sección 10 del curso `CC3057 BASES DE DATOS` fueron asignados para apoyar al departamento de investigación con la recolección esta información.\n",
    "\n",
    "_Basado en los pasos anteriores, investigue y ejecute la instrucción necesaria para crear una tabla en dónde registrar los turnos en los que cada miembro de la sección trabajará una medición._\n",
    "\n",
    "Estos son los requerimientos:\n",
    "* Cada miembro de la clase realizará una medición diaria manteniendo una probeta bajo la lluvia, por un turno que puede abarcar múltiples horas, en una estación específica.\n",
    "* Cada miembro de la clase contará con un día libre a la semana\n",
    "* La probeta de cada persona puede ser de diferente tamaño, medida como la cantidad máxima de agua que puede almacenar (medida en litros)\n",
    "* Dado que los servidores del departamento de investigación no pueden almacenar toda la información que se generará, será necesario elegir aleatoriamente e identificar a algunos estudiantes que cumplirán con su turno pero que no contarán con probeta\n",
    "* Algunos estudiantes en clase tienen [nombres peculiares](https://www.youtube.com/watch?v=fHxO0UdpoxM)\n"
   ]
  },
  {
   "cell_type": "markdown",
   "metadata": {},
   "source": [
    "### Actividad 2\n",
    "\n",
    "_Ejecute el siguientes comando para crear y conectarse a una una base de datos en blanco_"
   ]
  },
  {
   "cell_type": "code",
   "execution_count": 11,
   "metadata": {},
   "outputs": [
    {
     "data": {
      "text/plain": [
       "'Connected: None@None'"
      ]
     },
     "execution_count": 11,
     "metadata": {},
     "output_type": "execute_result"
    }
   ],
   "source": [
    "%sql sqlite://"
   ]
  },
  {
   "cell_type": "markdown",
   "metadata": {},
   "source": [
    "*Ejecute el siguiente comando para crear la tabla `producto` e ingresar cuatro tuplas*"
   ]
  },
  {
   "cell_type": "code",
   "execution_count": 12,
   "metadata": {},
   "outputs": [
    {
     "name": "stdout",
     "output_type": "stream",
     "text": [
      "Done.\n",
      "Done.\n",
      "1 rows affected.\n",
      "1 rows affected.\n",
      "1 rows affected.\n",
      "1 rows affected.\n"
     ]
    },
    {
     "data": {
      "text/plain": [
       "[]"
      ]
     },
     "execution_count": 12,
     "metadata": {},
     "output_type": "execute_result"
    }
   ],
   "source": [
    "%%sql drop table if exists producto;\n",
    "create table producto(\n",
    "       nombre varchar primary key,\n",
    "       precio money,               \n",
    "       categoria varchar,             \n",
    "       proveedor varchar NOT NULL     \n",
    ");\n",
    "insert into producto values('Gizmo', 19.99, 'Gadgets', 'GizmoWorks');\n",
    "insert into producto values('PowerGizmo', 29.99, 'Gadgets', 'GizmoWorks');\n",
    "insert into producto values('MultiTouch', 203.99, 'Household', 'Hitachi');\n",
    "insert into producto values('SingleTouch', 149.99, 'Photography', 'Canon');"
   ]
  },
  {
   "cell_type": "code",
   "execution_count": 14,
   "metadata": {},
   "outputs": [
    {
     "name": "stdout",
     "output_type": "stream",
     "text": [
      "Done.\n"
     ]
    },
    {
     "data": {
      "text/html": [
       "<table>\n",
       "    <tr>\n",
       "        <th>nombre</th>\n",
       "    </tr>\n",
       "    <tr>\n",
       "        <td>SingleTouch</td>\n",
       "    </tr>\n",
       "</table>"
      ],
      "text/plain": [
       "[('SingleTouch',)]"
      ]
     },
     "execution_count": 14,
     "metadata": {},
     "output_type": "execute_result"
    }
   ],
   "source": [
    "%sql SELECT nombre FROM producto WHERE nombre LIKE '%single%';"
   ]
  },
  {
   "cell_type": "markdown",
   "metadata": {},
   "source": [
    "*Escriba un query para obtener una tabla de todos los productos que contengan 'Touch' dentro del nombre, mostrando únicamente su nombre y precio, ordenados alfabeticamente por proveedor*"
   ]
  },
  {
   "cell_type": "code",
   "execution_count": null,
   "metadata": {},
   "outputs": [],
   "source": []
  },
  {
   "cell_type": "markdown",
   "metadata": {},
   "source": [
    "_Escriba un query que retorne los proveedores de productos que contengan 'Gizmo' en su nombre, sin duplicados_"
   ]
  },
  {
   "cell_type": "code",
   "execution_count": null,
   "metadata": {},
   "outputs": [],
   "source": []
  },
  {
   "cell_type": "markdown",
   "metadata": {},
   "source": [
    "_**Prediga** el resultado de los siguientes queries y escribalos en celdas de tipo `Markdown` como un listado de tuplas_"
   ]
  },
  {
   "cell_type": "markdown",
   "metadata": {},
   "source": [
    "`SELECT DISTINCT category FROM product ORDER BY category;`"
   ]
  },
  {
   "cell_type": "markdown",
   "metadata": {},
   "source": [
    "*Resultado:*\n",
    "\n"
   ]
  },
  {
   "cell_type": "markdown",
   "metadata": {},
   "source": [
    "`SELECT category FROM product ORDER BY proveedor;`"
   ]
  },
  {
   "cell_type": "markdown",
   "metadata": {},
   "source": [
    "*Resultado:*\n",
    "\n"
   ]
  },
  {
   "cell_type": "markdown",
   "metadata": {},
   "source": [
    "`SELECT DISTINCT category FROM product ORDER BY proveedor;`"
   ]
  },
  {
   "cell_type": "markdown",
   "metadata": {},
   "source": [
    "*Resultado:*\n",
    "\n"
   ]
  }
 ],
 "metadata": {
  "kernelspec": {
   "display_name": "Python 3",
   "language": "python",
   "name": "python3"
  },
  "language_info": {
   "codemirror_mode": {
    "name": "ipython",
    "version": 3
   },
   "file_extension": ".py",
   "mimetype": "text/x-python",
   "name": "python",
   "nbconvert_exporter": "python",
   "pygments_lexer": "ipython3",
   "version": "3.6.4"
  }
 },
 "nbformat": 4,
 "nbformat_minor": 2
}
