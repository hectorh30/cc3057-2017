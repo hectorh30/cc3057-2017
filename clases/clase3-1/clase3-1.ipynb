{
 "cells": [
  {
   "cell_type": "markdown",
   "metadata": {
    "slideshow": {
     "slide_type": "skip"
    }
   },
   "source": [
    "NOTA:\n",
    "-----\n",
    "\n",
    "Ejecute la celda a continuación antes de cualquier otra cosa."
   ]
  },
  {
   "cell_type": "code",
   "execution_count": 14,
   "metadata": {
    "slideshow": {
     "slide_type": "skip"
    }
   },
   "outputs": [
    {
     "name": "stdout",
     "output_type": "stream",
     "text": [
      "The sql extension is already loaded. To reload it, use:\n",
      "  %reload_ext sql\n"
     ]
    },
    {
     "data": {
      "text/plain": [
       "'Connected: None@dataset_1.db'"
      ]
     },
     "execution_count": 14,
     "metadata": {},
     "output_type": "execute_result"
    }
   ],
   "source": [
    "%load_ext sql\n",
    "%sql sqlite:///dataset_1.db"
   ]
  },
  {
   "cell_type": "markdown",
   "metadata": {},
   "source": [
    "Parte 1\n",
    "-------\n",
    "\n",
    "Funciones de agregación y `GROUP BY`"
   ]
  },
  {
   "cell_type": "markdown",
   "metadata": {},
   "source": [
    "Ejercicio #1\n",
    "-------------\n",
    "\n",
    "Considere un conjunto de tablas utilizadas por la industria de fabricación de bagels. Para comenzar estudiemos las siguientes dos tablas: `bagel`, que describe los tipos de bagels hechos por las diferentes compañías:\n",
    "> * name STRING\n",
    "> * price FLOAT\n",
    "> * made_by STRING\n",
    "\n",
    "Y `purchase`:\n",
    "> * bagel_name STRING\n",
    "> * franchise STRING\n",
    "> * date INT\n",
    "> * quantity INT\n",
    "> * purchaser_age INT\n",
    "\n",
    "En donde `purchase.bagel_name` hace referencia a `bagel.name` y `purchase.franchise` hace referencia a `bagel.made_by`:"
   ]
  },
  {
   "cell_type": "code",
   "execution_count": 32,
   "metadata": {},
   "outputs": [
    {
     "name": "stdout",
     "output_type": "stream",
     "text": [
      "Done.\n"
     ]
    },
    {
     "data": {
      "text/html": [
       "<table>\n",
       "    <tr>\n",
       "        <th>name</th>\n",
       "        <th>price</th>\n",
       "        <th>made_by</th>\n",
       "    </tr>\n",
       "    <tr>\n",
       "        <td>Plain with shmear</td>\n",
       "        <td>1.99</td>\n",
       "        <td>Bobs Bagels</td>\n",
       "    </tr>\n",
       "    <tr>\n",
       "        <td>Egg with shmear</td>\n",
       "        <td>2.39</td>\n",
       "        <td>Bobs Bagels</td>\n",
       "    </tr>\n",
       "    <tr>\n",
       "        <td>eBagel Drinkable Bagel</td>\n",
       "        <td>27.99</td>\n",
       "        <td>eBagel</td>\n",
       "    </tr>\n",
       "    <tr>\n",
       "        <td>eBagel Expansion Pack</td>\n",
       "        <td>1.99</td>\n",
       "        <td>eBagel</td>\n",
       "    </tr>\n",
       "    <tr>\n",
       "        <td>Plain with shmear</td>\n",
       "        <td>0.99</td>\n",
       "        <td>BAGEL CORP</td>\n",
       "    </tr>\n",
       "    <tr>\n",
       "        <td>Organic Flax-seed bagel chips</td>\n",
       "        <td>0.99</td>\n",
       "        <td>BAGEL CORP</td>\n",
       "    </tr>\n",
       "</table>"
      ],
      "text/plain": [
       "[('Plain with shmear', 1.99, 'Bobs Bagels'),\n",
       " ('Egg with shmear', 2.39, 'Bobs Bagels'),\n",
       " ('eBagel Drinkable Bagel', 27.99, 'eBagel'),\n",
       " ('eBagel Expansion Pack', 1.99, 'eBagel'),\n",
       " ('Plain with shmear', 0.99, 'BAGEL CORP'),\n",
       " ('Organic Flax-seed bagel chips', 0.99, 'BAGEL CORP')]"
      ]
     },
     "execution_count": 32,
     "metadata": {},
     "output_type": "execute_result"
    }
   ],
   "source": [
    "%sql SELECT * FROM bagel;"
   ]
  },
  {
   "cell_type": "code",
   "execution_count": 33,
   "metadata": {},
   "outputs": [
    {
     "name": "stdout",
     "output_type": "stream",
     "text": [
      "Done.\n"
     ]
    },
    {
     "data": {
      "text/html": [
       "<table>\n",
       "    <tr>\n",
       "        <th>bagel_name</th>\n",
       "        <th>franchise</th>\n",
       "        <th>date</th>\n",
       "        <th>quantity</th>\n",
       "        <th>purchaser_age</th>\n",
       "    </tr>\n",
       "    <tr>\n",
       "        <td>Plain with shmear</td>\n",
       "        <td>Bobs Bagels</td>\n",
       "        <td>1</td>\n",
       "        <td>12</td>\n",
       "        <td>28</td>\n",
       "    </tr>\n",
       "    <tr>\n",
       "        <td>Egg with shmear</td>\n",
       "        <td>Bobs Bagels</td>\n",
       "        <td>2</td>\n",
       "        <td>6</td>\n",
       "        <td>47</td>\n",
       "    </tr>\n",
       "    <tr>\n",
       "        <td>Plain with shmear</td>\n",
       "        <td>BAGEL CORP</td>\n",
       "        <td>2</td>\n",
       "        <td>12</td>\n",
       "        <td>24</td>\n",
       "    </tr>\n",
       "    <tr>\n",
       "        <td>Plain with shmear</td>\n",
       "        <td>BAGEL CORP</td>\n",
       "        <td>3</td>\n",
       "        <td>1</td>\n",
       "        <td>17</td>\n",
       "    </tr>\n",
       "    <tr>\n",
       "        <td>eBagel Expansion Pack</td>\n",
       "        <td>eBagel</td>\n",
       "        <td>1</td>\n",
       "        <td>137</td>\n",
       "        <td>5</td>\n",
       "    </tr>\n",
       "    <tr>\n",
       "        <td>Plain with shmear</td>\n",
       "        <td>Bobs Bagels</td>\n",
       "        <td>4</td>\n",
       "        <td>24</td>\n",
       "        <td>None</td>\n",
       "    </tr>\n",
       "    <tr>\n",
       "        <td>Moonshine</td>\n",
       "        <td>BAGEL CORP</td>\n",
       "        <td>7</td>\n",
       "        <td>1000</td>\n",
       "        <td>37</td>\n",
       "    </tr>\n",
       "</table>"
      ],
      "text/plain": [
       "[('Plain with shmear', 'Bobs Bagels', 1, 12, 28),\n",
       " ('Egg with shmear', 'Bobs Bagels', 2, 6, 47),\n",
       " ('Plain with shmear', 'BAGEL CORP', 2, 12, 24),\n",
       " ('Plain with shmear', 'BAGEL CORP', 3, 1, 17),\n",
       " ('eBagel Expansion Pack', 'eBagel', 1, 137, 5),\n",
       " ('Plain with shmear', 'Bobs Bagels', 4, 24, None),\n",
       " ('Moonshine', 'BAGEL CORP', 7, 1000, 37)]"
      ]
     },
     "execution_count": 33,
     "metadata": {},
     "output_type": "execute_result"
    }
   ],
   "source": [
    "%sql SELECT * FROM purchase;"
   ]
  },
  {
   "cell_type": "markdown",
   "metadata": {},
   "source": [
    "     Escriba a continuación un *query* para obtener el total de ingresos para cada tipo de bagel **que tenga un promedio de edad de compradores de arriba de 18 años**:"
   ]
  },
  {
   "cell_type": "code",
   "execution_count": 20,
   "metadata": {},
   "outputs": [
    {
     "name": "stdout",
     "output_type": "stream",
     "text": [
      "Done.\n"
     ]
    },
    {
     "data": {
      "text/html": [
       "<table>\n",
       "    <tr>\n",
       "        <th>name</th>\n",
       "        <th>AVG(p.purchaser_age)</th>\n",
       "        <th>SUM(p.quantity * b.price)</th>\n",
       "    </tr>\n",
       "    <tr>\n",
       "        <td>Egg with shmear</td>\n",
       "        <td>47.0</td>\n",
       "        <td>14.34</td>\n",
       "    </tr>\n",
       "    <tr>\n",
       "        <td>Plain with shmear</td>\n",
       "        <td>23.0</td>\n",
       "        <td>146.01999999999998</td>\n",
       "    </tr>\n",
       "</table>"
      ],
      "text/plain": [
       "[('Egg with shmear', 47.0, 14.34),\n",
       " ('Plain with shmear', 23.0, 146.01999999999998)]"
      ]
     },
     "execution_count": 20,
     "metadata": {},
     "output_type": "execute_result"
    }
   ],
   "source": [
    "%%sql\n",
    "\n",
    "SELECT b.name, AVG(p.purchaser_age), SUM(p.quantity * b.price)\n",
    "FROM purchase p, bagel b\n",
    "WHERE p.bagel_name = b.name\n",
    "GROUP BY b.name\n",
    "HAVING AVG(p.purchaser_age) > 18;"
   ]
  },
  {
   "cell_type": "code",
   "execution_count": 4,
   "metadata": {},
   "outputs": [
    {
     "name": "stdout",
     "output_type": "stream",
     "text": [
      "Done.\n"
     ]
    },
    {
     "data": {
      "text/html": [
       "<table>\n",
       "    <tr>\n",
       "        <th>name</th>\n",
       "        <th>Revenue</th>\n",
       "    </tr>\n",
       "    <tr>\n",
       "        <td>Egg with shmear</td>\n",
       "        <td>14.34</td>\n",
       "    </tr>\n",
       "    <tr>\n",
       "        <td>Plain with shmear</td>\n",
       "        <td>84.51</td>\n",
       "    </tr>\n",
       "</table>"
      ],
      "text/plain": [
       "[(u'Egg with shmear', 14.34), (u'Plain with shmear', 84.50999999999999)]"
      ]
     },
     "execution_count": 4,
     "metadata": {},
     "output_type": "execute_result"
    }
   ],
   "source": [
    "\"\"\"\n",
    "Este debería ser el resultado:\n",
    "\n",
    "(No ejecute nuevamente esta celda)\n",
    "\"\"\""
   ]
  },
  {
   "cell_type": "code",
   "execution_count": 28,
   "metadata": {},
   "outputs": [
    {
     "name": "stdout",
     "output_type": "stream",
     "text": [
      "Done.\n"
     ]
    },
    {
     "data": {
      "text/html": [
       "<table>\n",
       "    <tr>\n",
       "        <th>SUM(p.quantity * b.price)</th>\n",
       "    </tr>\n",
       "    <tr>\n",
       "        <td>74.49999999999999</td>\n",
       "    </tr>\n",
       "</table>"
      ],
      "text/plain": [
       "[(74.49999999999999,)]"
      ]
     },
     "execution_count": 28,
     "metadata": {},
     "output_type": "execute_result"
    }
   ],
   "source": [
    "%%sql\n",
    "\n",
    "SELECT SUM(p.quantity * b.price)\n",
    "FROM purchase p\n",
    "    LEFT JOIN bagel b ON p.bagel_name = b.name\n",
    "WHERE p.bagel_name = 'Plain with shmear'\n",
    "    AND p.purchaser_age IS NOT NULL;"
   ]
  },
  {
   "cell_type": "code",
   "execution_count": 30,
   "metadata": {},
   "outputs": [
    {
     "name": "stdout",
     "output_type": "stream",
     "text": [
      "Done.\n"
     ]
    },
    {
     "data": {
      "text/html": [
       "<table>\n",
       "    <tr>\n",
       "        <th>AVG(p.purchaser_age)</th>\n",
       "    </tr>\n",
       "    <tr>\n",
       "        <td>37.0</td>\n",
       "    </tr>\n",
       "</table>"
      ],
      "text/plain": [
       "[(37.0,)]"
      ]
     },
     "execution_count": 30,
     "metadata": {},
     "output_type": "execute_result"
    }
   ],
   "source": [
    "%%sql\n",
    "\n",
    "SELECT AVG(p.purchaser_age) FROM purchase p WHERE p.bagel_name = 'Moonshine';"
   ]
  },
  {
   "cell_type": "code",
   "execution_count": 31,
   "metadata": {},
   "outputs": [
    {
     "name": "stdout",
     "output_type": "stream",
     "text": [
      "Done.\n"
     ]
    },
    {
     "data": {
      "text/html": [
       "<table>\n",
       "    <tr>\n",
       "        <th>bagel_name</th>\n",
       "        <th>franchise</th>\n",
       "        <th>date</th>\n",
       "        <th>quantity</th>\n",
       "        <th>purchaser_age</th>\n",
       "    </tr>\n",
       "    <tr>\n",
       "        <td>Plain with shmear</td>\n",
       "        <td>Bobs Bagels</td>\n",
       "        <td>1</td>\n",
       "        <td>12</td>\n",
       "        <td>28</td>\n",
       "    </tr>\n",
       "    <tr>\n",
       "        <td>Egg with shmear</td>\n",
       "        <td>Bobs Bagels</td>\n",
       "        <td>2</td>\n",
       "        <td>6</td>\n",
       "        <td>47</td>\n",
       "    </tr>\n",
       "    <tr>\n",
       "        <td>Plain with shmear</td>\n",
       "        <td>BAGEL CORP</td>\n",
       "        <td>2</td>\n",
       "        <td>12</td>\n",
       "        <td>24</td>\n",
       "    </tr>\n",
       "    <tr>\n",
       "        <td>Plain with shmear</td>\n",
       "        <td>BAGEL CORP</td>\n",
       "        <td>3</td>\n",
       "        <td>1</td>\n",
       "        <td>17</td>\n",
       "    </tr>\n",
       "    <tr>\n",
       "        <td>eBagel Expansion Pack</td>\n",
       "        <td>eBagel</td>\n",
       "        <td>1</td>\n",
       "        <td>137</td>\n",
       "        <td>5</td>\n",
       "    </tr>\n",
       "    <tr>\n",
       "        <td>Plain with shmear</td>\n",
       "        <td>Bobs Bagels</td>\n",
       "        <td>4</td>\n",
       "        <td>24</td>\n",
       "        <td>None</td>\n",
       "    </tr>\n",
       "    <tr>\n",
       "        <td>Moonshine</td>\n",
       "        <td>BAGEL CORP</td>\n",
       "        <td>7</td>\n",
       "        <td>1000</td>\n",
       "        <td>37</td>\n",
       "    </tr>\n",
       "</table>"
      ],
      "text/plain": [
       "[('Plain with shmear', 'Bobs Bagels', 1, 12, 28),\n",
       " ('Egg with shmear', 'Bobs Bagels', 2, 6, 47),\n",
       " ('Plain with shmear', 'BAGEL CORP', 2, 12, 24),\n",
       " ('Plain with shmear', 'BAGEL CORP', 3, 1, 17),\n",
       " ('eBagel Expansion Pack', 'eBagel', 1, 137, 5),\n",
       " ('Plain with shmear', 'Bobs Bagels', 4, 24, None),\n",
       " ('Moonshine', 'BAGEL CORP', 7, 1000, 37)]"
      ]
     },
     "execution_count": 31,
     "metadata": {},
     "output_type": "execute_result"
    }
   ],
   "source": [
    "%%sql\n",
    "SELECT * FROM purchase;"
   ]
  },
  {
   "cell_type": "markdown",
   "metadata": {},
   "source": [
    "Ejercicio #2\n",
    "-------------\n",
    "\n",
    "A continuación utilizaremos una versión simplificada de la tabla `precipitation_full`, que contiene solo la cantidad diaria de lluvia medida en el estado de California, con el siguiente esquema:\n",
    "\n",
    "> * station_id\n",
    "> * day\n",
    "> * precipitation"
   ]
  },
  {
   "cell_type": "code",
   "execution_count": 5,
   "metadata": {
    "scrolled": true
   },
   "outputs": [
    {
     "name": "stdout",
     "output_type": "stream",
     "text": [
      "Done.\n"
     ]
    },
    {
     "data": {
      "text/html": [
       "<table>\n",
       "    <tr>\n",
       "        <th>station_id</th>\n",
       "        <th>day</th>\n",
       "        <th>precipitation</th>\n",
       "    </tr>\n",
       "    <tr>\n",
       "        <td>16102</td>\n",
       "        <td>1</td>\n",
       "        <td>10</td>\n",
       "    </tr>\n",
       "    <tr>\n",
       "        <td>16102</td>\n",
       "        <td>4</td>\n",
       "        <td>10</td>\n",
       "    </tr>\n",
       "    <tr>\n",
       "        <td>16102</td>\n",
       "        <td>24</td>\n",
       "        <td>30</td>\n",
       "    </tr>\n",
       "    <tr>\n",
       "        <td>21201</td>\n",
       "        <td>1</td>\n",
       "        <td>0</td>\n",
       "    </tr>\n",
       "    <tr>\n",
       "        <td>21201</td>\n",
       "        <td>20</td>\n",
       "        <td>10</td>\n",
       "    </tr>\n",
       "</table>"
      ],
      "text/plain": [
       "[(16102, 1, 10),\n",
       " (16102, 4, 10),\n",
       " (16102, 24, 30),\n",
       " (21201, 1, 0),\n",
       " (21201, 20, 10)]"
      ]
     },
     "execution_count": 5,
     "metadata": {},
     "output_type": "execute_result"
    }
   ],
   "source": [
    "%sql SELECT * FROM precipitation LIMIT 5;"
   ]
  },
  {
   "cell_type": "markdown",
   "metadata": {},
   "source": [
    "Escriba a continuación un _query_ que obtenga los ids de las estaciones que tengan un promedio de precipitación mayor a 75 **utilizando subqueries**:"
   ]
  },
  {
   "cell_type": "code",
   "execution_count": null,
   "metadata": {
    "collapsed": true
   },
   "outputs": [],
   "source": []
  },
  {
   "cell_type": "code",
   "execution_count": 6,
   "metadata": {},
   "outputs": [
    {
     "name": "stdout",
     "output_type": "stream",
     "text": [
      "Done.\n"
     ]
    },
    {
     "data": {
      "text/html": [
       "<table>\n",
       "    <tr>\n",
       "        <th>station_id</th>\n",
       "    </tr>\n",
       "    <tr>\n",
       "        <td>88302</td>\n",
       "    </tr>\n",
       "    <tr>\n",
       "        <td>250002</td>\n",
       "    </tr>\n",
       "    <tr>\n",
       "        <td>335701</td>\n",
       "    </tr>\n",
       "    <tr>\n",
       "        <td>357302</td>\n",
       "    </tr>\n",
       "    <tr>\n",
       "        <td>488301</td>\n",
       "    </tr>\n",
       "</table>"
      ],
      "text/plain": [
       "[(88302,), (250002,), (335701,), (357302,), (488301,)]"
      ]
     },
     "execution_count": 6,
     "metadata": {},
     "output_type": "execute_result"
    }
   ],
   "source": [
    "\"\"\"\n",
    "Este debería ser el resultado:\n",
    "\n",
    "(No ejecute nuevamente esta celda)\n",
    "\"\"\""
   ]
  },
  {
   "cell_type": "markdown",
   "metadata": {},
   "source": [
    "Ahora re escribalo utilizando `GROUP BY`:"
   ]
  },
  {
   "cell_type": "code",
   "execution_count": null,
   "metadata": {
    "collapsed": true
   },
   "outputs": [],
   "source": []
  },
  {
   "cell_type": "code",
   "execution_count": 7,
   "metadata": {},
   "outputs": [
    {
     "name": "stdout",
     "output_type": "stream",
     "text": [
      "Done.\n"
     ]
    },
    {
     "data": {
      "text/html": [
       "<table>\n",
       "    <tr>\n",
       "        <th>station_id</th>\n",
       "    </tr>\n",
       "    <tr>\n",
       "        <td>88302</td>\n",
       "    </tr>\n",
       "    <tr>\n",
       "        <td>250002</td>\n",
       "    </tr>\n",
       "    <tr>\n",
       "        <td>335701</td>\n",
       "    </tr>\n",
       "    <tr>\n",
       "        <td>357302</td>\n",
       "    </tr>\n",
       "    <tr>\n",
       "        <td>488301</td>\n",
       "    </tr>\n",
       "</table>"
      ],
      "text/plain": [
       "[(88302,), (250002,), (335701,), (357302,), (488301,)]"
      ]
     },
     "execution_count": 7,
     "metadata": {},
     "output_type": "execute_result"
    }
   ],
   "source": [
    "\"\"\"\n",
    "Este debería ser el resultado:\n",
    "\n",
    "(No ejecute nuevamente esta celda)\n",
    "\"\"\""
   ]
  },
  {
   "cell_type": "markdown",
   "metadata": {},
   "source": [
    "A continuación vamos a cronometrarlo utilizando `%%time` seguido por los queries trabajados:\n",
    "\n",
    "**Nota:** Sí, ahí van las respuestas. Aún así es valioso que las trabaje por su cuenta."
   ]
  },
  {
   "cell_type": "code",
   "execution_count": 9,
   "metadata": {},
   "outputs": [
    {
     "name": "stdout",
     "output_type": "stream",
     "text": [
      "Done.\n",
      "Wall time: 33.5 ms\n"
     ]
    },
    {
     "data": {
      "text/html": [
       "<table>\n",
       "    <tr>\n",
       "        <th>station_id</th>\n",
       "    </tr>\n",
       "    <tr>\n",
       "        <td>88302</td>\n",
       "    </tr>\n",
       "    <tr>\n",
       "        <td>250002</td>\n",
       "    </tr>\n",
       "    <tr>\n",
       "        <td>335701</td>\n",
       "    </tr>\n",
       "    <tr>\n",
       "        <td>357302</td>\n",
       "    </tr>\n",
       "    <tr>\n",
       "        <td>488301</td>\n",
       "    </tr>\n",
       "</table>"
      ],
      "text/plain": [
       "[(88302,), (250002,), (335701,), (357302,), (488301,)]"
      ]
     },
     "execution_count": 9,
     "metadata": {},
     "output_type": "execute_result"
    }
   ],
   "source": [
    "%%time\n",
    "%%sql\n",
    "\n",
    "SELECT DISTINCT p.station_id\n",
    "FROM precipitation p\n",
    "WHERE (\n",
    "    SELECT AVG(precipitation)\n",
    "    FROM precipitation\n",
    "    WHERE station_id = p.station_id\n",
    ") > 75;"
   ]
  },
  {
   "cell_type": "code",
   "execution_count": 11,
   "metadata": {},
   "outputs": [
    {
     "name": "stdout",
     "output_type": "stream",
     "text": [
      "Done.\n",
      "Wall time: 4 ms\n"
     ]
    },
    {
     "data": {
      "text/html": [
       "<table>\n",
       "    <tr>\n",
       "        <th>station_id</th>\n",
       "    </tr>\n",
       "    <tr>\n",
       "        <td>88302</td>\n",
       "    </tr>\n",
       "    <tr>\n",
       "        <td>250002</td>\n",
       "    </tr>\n",
       "    <tr>\n",
       "        <td>335701</td>\n",
       "    </tr>\n",
       "    <tr>\n",
       "        <td>357302</td>\n",
       "    </tr>\n",
       "    <tr>\n",
       "        <td>488301</td>\n",
       "    </tr>\n",
       "</table>"
      ],
      "text/plain": [
       "[(88302,), (250002,), (335701,), (357302,), (488301,)]"
      ]
     },
     "execution_count": 11,
     "metadata": {},
     "output_type": "execute_result"
    }
   ],
   "source": [
    "%%time\n",
    "%%sql\n",
    "\n",
    "SELECT p.station_id\n",
    "FROM precipitation p\n",
    "GROUP BY p.station_id\n",
    "HAVING AVG(p.precipitation) > 75;"
   ]
  },
  {
   "cell_type": "markdown",
   "metadata": {},
   "source": [
    "¿Cuántas veces más rápido es el tiempo de ejecución utilizando `GROUP BY`?"
   ]
  },
  {
   "cell_type": "code",
   "execution_count": null,
   "metadata": {},
   "outputs": [],
   "source": []
  },
  {
   "cell_type": "markdown",
   "metadata": {},
   "source": [
    "Parte 2\n",
    "-------\n",
    "\n",
    "Cuantificadores, NULLs y outer joins"
   ]
  },
  {
   "cell_type": "markdown",
   "metadata": {},
   "source": [
    "Ejercicio #1\n",
    "------------\n",
    "\n",
    "De las tablas `bagel` y `purchase` descritas anteriormente, ¿puede determinar si existen compras de productos que no se encuentran en el listado oficial (es decir, que no se encuentran en la tabla `bagel`), sin utilizar _subqueries_?\n",
    "\n",
    "Escriba el query a continuación:"
   ]
  },
  {
   "cell_type": "code",
   "execution_count": null,
   "metadata": {},
   "outputs": [],
   "source": []
  }
 ],
 "metadata": {
  "kernelspec": {
   "display_name": "Python 3",
   "language": "python",
   "name": "python3"
  },
  "language_info": {
   "codemirror_mode": {
    "name": "ipython",
    "version": 3
   },
   "file_extension": ".py",
   "mimetype": "text/x-python",
   "name": "python",
   "nbconvert_exporter": "python",
   "pygments_lexer": "ipython3",
   "version": "3.6.4"
  }
 },
 "nbformat": 4,
 "nbformat_minor": 1
}
